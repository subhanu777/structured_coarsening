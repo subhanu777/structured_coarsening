{
 "cells": [
  {
   "cell_type": "code",
   "execution_count": null,
   "id": "14a6f1a3",
   "metadata": {},
   "outputs": [],
   "source": [
    "import torch\n",
    "from torch_geometric.utils import to_dense_adj\n",
    "import numpy as np\n",
    "import os\n",
    "import torch\n",
    "import torch.nn.functional as F\n",
    "\n",
    "from tqdm import tqdm\n",
    "from torch_geometric.loader import NeighborLoader\n",
    "from torch.optim.lr_scheduler import ReduceLROnPlateau\n",
    "from torch_geometric.nn import MessagePassing, SAGEConv\n",
    "from ogb.nodeproppred import Evaluator, PygNodePropPredDataset\n",
    "from tqdm import tqdm\n",
    "from sklearn.decomposition import FactorAnalysis\n",
    "from sklearn.metrics import confusion_matrix\n",
    "import os\n",
    "import pandas as pd\n",
    "import scipy.sparse as sp\n",
    "from torch import Tensor\n",
    "import torch_geometric\n",
    "from torch_geometric.utils import to_networkx\n",
    "from torch_geometric.datasets import Planetoid\n",
    "import networkx as nx\n",
    "from networkx.algorithms import community\n",
    "import math\n",
    "from tqdm import tqdm\n",
    "import torch.nn.functional as F\n",
    "from torch_geometric.loader import NeighborLoader\n",
    "from torch.optim.lr_scheduler import ReduceLROnPlateau\n",
    "from torch_geometric.nn import MessagePassing, SAGEConv\n",
    "from ogb.nodeproppred import Evaluator, PygNodePropPredDataset\n",
    "import random\n",
    "from random import sample\n",
    "from scipy.sparse import csr_matrix\n",
    "from scipy.sparse import csgraph\n",
    "from scipy.sparse.linalg import inv\n",
    "import os\n",
    "os.getcwd()\n",
    "dataset = os.path.join(os.getcwd(),'OGBN')\n",
    "dataset\n"
   ]
  },
  {
   "cell_type": "code",
   "execution_count": null,
   "id": "fa15f965",
   "metadata": {},
   "outputs": [],
   "source": [
    "import numpy as np\n",
    "import tensorflow as tf\n",
    "from ogb.nodeproppred import Evaluator, NodePropPredDataset\n",
    "from tensorflow.keras.layers import BatchNormalization, Dropout, Input\n",
    "from tensorflow.keras.losses import SparseCategoricalCrossentropy\n",
    "from tensorflow.keras.models import Model\n",
    "from tensorflow.keras.optimizers import Adam\n",
    "\n",
    "from spektral.datasets.ogb import OGB\n",
    "from spektral.layers import GCNConv\n",
    "from spektral.transforms import AdjToSpTensor, GCNFilter\n",
    "\n",
    "# Load data\n",
    "dataset_name = \"ogbn-arxiv\"\n",
    "ogb_dataset = NodePropPredDataset(dataset_name)\n",
    "dataset = OGB(ogb_dataset, transforms=[GCNFilter()])\n",
    "graph = dataset[0]\n",
    "x, adj, y = graph.x, graph.a, graph.y\n",
    "\n",
    "# Parameters\n",
    "channels = 256  # Number of channels for GCN layers\n",
    "dropout = 0.5  # Dropout rate for the features\n",
    "learning_rate = 1e-2  # Learning rate\n",
    "epochs = 200  # Number of training epochs\n",
    "\n",
    "N = dataset.n_nodes  # Number of nodes in the graph\n",
    "F = dataset.n_node_features  # Original size of node features\n",
    "n_out = ogb_dataset.num_classes  # OGB labels are sparse indices\n",
    "\n",
    "# Data splits\n",
    "idx = ogb_dataset.get_idx_split()\n",
    "idx_tr, idx_va, idx_te = idx[\"train\"], idx[\"valid\"], idx[\"test\"]\n",
    "mask_tr = np.zeros(N, dtype=bool)\n",
    "mask_va = np.zeros(N, dtype=bool)\n",
    "mask_te = np.zeros(N, dtype=bool)\n",
    "mask_tr[idx_tr] = True\n",
    "mask_va[idx_va] = True\n",
    "mask_te[idx_te] = True\n",
    "masks = [mask_tr, mask_va, mask_te]"
   ]
  },
  {
   "cell_type": "code",
   "execution_count": null,
   "id": "3b22b98f",
   "metadata": {},
   "outputs": [],
   "source": [
    "X = x[idx_tr]\n",
    "labels = y[idx_tr]\n",
    "adj= adj[np.ix_(idx_tr, idx_tr)]"
   ]
  },
  {
   "cell_type": "code",
   "execution_count": null,
   "id": "9a2fa7e0",
   "metadata": {},
   "outputs": [],
   "source": [
    "def convertScipyToTensor(coo):\n",
    "  try:\n",
    "    coo = coo.tocoo()\n",
    "  except:\n",
    "    coo = coo\n",
    "  values = coo.data\n",
    "  indices = np.vstack((coo.row, coo.col))\n",
    "\n",
    "  i = torch.LongTensor(indices)\n",
    "  v = torch.FloatTensor(values)\n",
    "  shape = coo.shape\n",
    "\n",
    "  return torch.sparse.FloatTensor(i, v, torch.Size(shape))"
   ]
  },
  {
   "cell_type": "code",
   "execution_count": null,
   "id": "d03f0fb8",
   "metadata": {},
   "outputs": [],
   "source": [
    "from scipy import sparse\n",
    "sA = sparse.csr_matrix(adj)\n",
    "ww = convertScipyToTensor(sA)\n",
    "adj = ww.to_dense()"
   ]
  },
  {
   "cell_type": "code",
   "execution_count": null,
   "id": "a148d69c",
   "metadata": {},
   "outputs": [],
   "source": [
    "adj"
   ]
  },
  {
   "cell_type": "code",
   "execution_count": null,
   "id": "3ded9a78",
   "metadata": {},
   "outputs": [],
   "source": [
    "adj.shape"
   ]
  },
  {
   "cell_type": "code",
   "execution_count": null,
   "id": "5cd3436e",
   "metadata": {},
   "outputs": [],
   "source": [
    "labels.shape"
   ]
  },
  {
   "cell_type": "code",
   "execution_count": null,
   "id": "e5a67bd8",
   "metadata": {},
   "outputs": [],
   "source": [
    "X.shape"
   ]
  },
  {
   "cell_type": "code",
   "execution_count": null,
   "id": "46bab261",
   "metadata": {},
   "outputs": [],
   "source": []
  },
  {
   "cell_type": "code",
   "execution_count": null,
   "id": "42298a86",
   "metadata": {},
   "outputs": [],
   "source": []
  },
  {
   "cell_type": "code",
   "execution_count": null,
   "id": "aa778a85",
   "metadata": {},
   "outputs": [],
   "source": []
  },
  {
   "cell_type": "code",
   "execution_count": null,
   "id": "62374ff5",
   "metadata": {},
   "outputs": [],
   "source": []
  },
  {
   "cell_type": "code",
   "execution_count": null,
   "id": "1f6ab58e",
   "metadata": {},
   "outputs": [],
   "source": []
  },
  {
   "cell_type": "code",
   "execution_count": null,
   "id": "d90ab869",
   "metadata": {},
   "outputs": [],
   "source": []
  },
  {
   "cell_type": "code",
   "execution_count": null,
   "id": "a5e4b89f",
   "metadata": {},
   "outputs": [],
   "source": []
  },
  {
   "cell_type": "code",
   "execution_count": 22,
   "id": "76efa7b1",
   "metadata": {},
   "outputs": [
    {
     "name": "stdout",
     "output_type": "stream",
     "text": [
      "(169343,)\n"
     ]
    }
   ],
   "source": [
    "\n",
    "reshaped_array = labels.flatten()\n",
    "\n",
    "\n",
    "print(reshaped_array.shape)\n",
    "\n",
    "\n"
   ]
  },
  {
   "cell_type": "code",
   "execution_count": 26,
   "id": "4d575ecd",
   "metadata": {},
   "outputs": [
    {
     "name": "stdout",
     "output_type": "stream",
     "text": [
      "40 20000\n",
      "torch.Size([20000, 20000])\n"
     ]
    }
   ],
   "source": [
    "def get_laplacian(adj):\n",
    "    b=torch.ones(adj.shape[0])\n",
    "    return torch.diag(adj@b)-adj\n",
    "\n",
    "theta = get_laplacian(adj)\n",
    "features = X.numpy()\n",
    "NO_OF_NODES = X.shape[0]\n",
    "print(NO_OF_CLASSES,NO_OF_NODES)\n",
    "print(theta.shape)"
   ]
  },
  {
   "cell_type": "code",
   "execution_count": 27,
   "id": "2328b979",
   "metadata": {},
   "outputs": [],
   "source": [
    "def convertScipyToTensor(coo):\n",
    "  try:\n",
    "    coo = coo.tocoo()\n",
    "  except:\n",
    "    coo = coo\n",
    "  values = coo.data\n",
    "  indices = np.vstack((coo.row, coo.col))\n",
    "\n",
    "  i = torch.LongTensor(indices)\n",
    "  v = torch.FloatTensor(values)\n",
    "  shape = coo.shape\n",
    "\n",
    "  return torch.sparse.FloatTensor(i, v, torch.Size(shape))"
   ]
  },
  {
   "cell_type": "code",
   "execution_count": 28,
   "id": "9939b6b7",
   "metadata": {},
   "outputs": [],
   "source": [
    "from scipy.sparse import random\n",
    "from scipy.sparse.linalg import norm\n",
    "from scipy.sparse import csr_matrix\n",
    "\n",
    "p = X.shape[0]\n",
    "k = int(p*0.05)\n",
    "n = X.shape[1]\n",
    "\n",
    "lr = 1e-5\n",
    "thresh = 1e-10\n",
    "\n",
    "from scipy.sparse import random\n",
    "from scipy.stats import rv_continuous\n",
    "class CustomDistribution(rv_continuous):\n",
    "    def _rvs(self,  size=None, random_state=None):\n",
    "        return random_state.standard_normal(size)\n",
    "temp = CustomDistribution(seed=1)\n",
    "temp2 = temp()  # get a frozen version of the distribution\n",
    "# get a frozen version of the distribution\n",
    "X_tilde = random(k, n, density=0.25, random_state=1, data_rvs=temp2.rvs)\n",
    "C = random(p, k, density=0.25, random_state=1, data_rvs=temp2.rvs)\n",
    "\n"
   ]
  },
  {
   "cell_type": "code",
   "execution_count": 29,
   "id": "6e84a4d0",
   "metadata": {},
   "outputs": [],
   "source": [
    "import torch\n",
    "import torch.nn.functional as F\n",
    "from torch_geometric.nn import GCNConv\n",
    "from random import sample\n",
    "\n",
    "class Net(torch.nn.Module):\n",
    "    def __init__(self):\n",
    "        super(Net, self).__init__()\n",
    "        self.conv1 = GCNConv(X.shape[1], 256)\n",
    "        self.conv2 = GCNConv(256, NO_OF_CLASSES)\n",
    "\n",
    "    def reset_parameters(self):\n",
    "        self.conv1.reset_parameters()\n",
    "        self.conv2.reset_parameters()\n",
    "\n",
    "    def forward(self, x, edge_index):\n",
    "\n",
    "        #print(\"Checking 1: x\", x.shape, \"Edge index:\", edge_index.shape)\n",
    "        x = self.conv1(x, edge_index)\n",
    "        #print(\"Checking 2: convolution done, new x:\", x.shape)\n",
    "        x = F.relu(x)\n",
    "        #print(\"Checking 3: x\", x.shape, \"training:\", self.training)\n",
    "        x = F.dropout(x, training=self.training)\n",
    "        #print(\"Checking 4: dropout done new x\", x.shape, \"Edge index:\", edge_index.shape)\n",
    "        x = self.conv2(x, edge_index)\n",
    "        #print(\"Checking 5: x\", x.shape)\n",
    "\n",
    "        return F.log_softmax(x, dim=1)\n",
    "\n"
   ]
  },
  {
   "cell_type": "code",
   "execution_count": 30,
   "id": "844ae62f",
   "metadata": {},
   "outputs": [],
   "source": [
    "def get_accuracy(C_0,L):\n",
    "    global labels, NO_OF_CLASSES,k\n",
    "    t=[]\n",
    "    for i in [1,2,3,4,5,6,7,8,9,10]: \n",
    "        C_0_new=np.zeros(C_0.shape)\n",
    "        for i in range(C_0.shape[0]):\n",
    "            C_0_new[i][np.argmax(C_0[i])]=1\n",
    "        # print(C_0_new)\n",
    "        \n",
    "        # C_0_new=C_0\n",
    "        from scipy import sparse\n",
    "        #Lc=C_0.T@L@C_0\n",
    "        Lc=C_0_new.T@L@C_0_new\n",
    "        # print(\"L:\", Lc.shape)\n",
    "        # Lc=L_new\n",
    "        #print(Lc)\n",
    "       \n",
    "        Wc=(-1*Lc)*(1-np.eye(Lc.shape[0]))\n",
    "        # print(\"W:\", Wc.shape)\n",
    "        Wc[Wc<0.01]=0\n",
    "        Wc=sparse.csr_matrix(Wc)\n",
    "        Wc = Wc.tocoo()\n",
    "        row = torch.from_numpy(Wc.row).to(torch.long)\n",
    "        col = torch.from_numpy(Wc.col).to(torch.long)\n",
    "        edge_index_coarsen2 = torch.stack([row, col], dim=0)\n",
    "\n",
    "        #print(\"edgecoarsen:\", edge_index_coarsen2.shape)\n",
    "        edge_weight = torch.from_numpy(Wc.data)\n",
    "        #print(\"edgeweight:\", edge_weight.shape)\n",
    "        def one_hot(x, class_count):\n",
    "            return torch.eye(class_count)[x, :]\n",
    "\n",
    "        device = torch.device('cpu')\n",
    "        labels=reshaped_array\n",
    "        Y = labels\n",
    "        print(\"Y:\", Y.shape)\n",
    "        Y = one_hot(Y,NO_OF_CLASSES)\n",
    "        # NO_OF_CLASSES=Y.shape[1]\n",
    "        P=np.linalg.pinv(C_0_new)\n",
    "\n",
    "        labels_coarse = torch.argmax(torch.sparse.mm(torch.Tensor(P).double() , Y.double()).double() , 1)\n",
    "        #print(\"Lables:\", labels_coarse.shape)\n",
    "       \n",
    "        #torch.Tensor(C2)@X\n",
    "        Wc=Wc.toarray()\n",
    "        Wc[Wc<0.01]=0\n",
    "        C2=np.linalg.pinv(C_0_new)\n",
    "        model=Net().to(device)\n",
    "        device = torch.device('cpu')\n",
    "        lr=0.01\n",
    "        decay=0.0001\n",
    "        try:\n",
    "          X=np.array(features.todense())\n",
    "        except:\n",
    "          X = np.array(features)\n",
    "        print(\"X:\",X.shape)\n",
    "        optimizer = torch.optim.Adam(model.parameters(), lr=lr, weight_decay=decay)\n",
    "        # criterion=torch.nn.CrossEntropyLoss()\n",
    "        x=sample(range(0, int(k)), k)\n",
    "      \n",
    "        from datetime import datetime\n",
    "        print(P.shape)\n",
    "        print(X.shape)\n",
    "        Xt=P@X\n",
    "        # Xt=X_t_0\n",
    "        def train():\n",
    "            model.train()\n",
    "            optimizer.zero_grad()\n",
    "            out = model(torch.Tensor(Xt).to(device),edge_index_coarsen2)\n",
    "            loss = F.nll_loss(out[x], labels_coarse[x])\n",
    "            loss.backward()\n",
    "            optimizer.step()\n",
    "            return loss\n",
    "        now1 = datetime.now()\n",
    "        losses=[]\n",
    "        for epoch in range(200):\n",
    "            loss=train()\n",
    "            losses.append(loss)\n",
    "            if(epoch%50==0):\n",
    "                print(f'Epoch: {epoch:03d},loss: {loss:.4f}')\n",
    "        now2 = datetime.now()        \n",
    "        pred=model(torch.Tensor(Xt).to(device),edge_index_coarsen2).argmax(dim=1)        \n",
    "        def train_accuracy():\n",
    "            model.eval()\n",
    "            correct = (pred[x] == labels_coarse[x]).sum()\n",
    "            acc = int(correct) /len(x)\n",
    "            return acc\n",
    "    \n",
    "        t+=[(now2-now1).total_seconds()]\n",
    "         \n",
    "        zz=sample(range(0, int(NO_OF_NODES)),NO_OF_NODES)    \n",
    "        Wc=sparse.csr_matrix(adj)\n",
    "        Wc = Wc.tocoo()\n",
    "        row = torch.from_numpy(Wc.row).to(torch.long)\n",
    "        col = torch.from_numpy(Wc.col).to(torch.long)\n",
    "        edge_index = torch.stack([row, col], dim=0)\n",
    "        edge_weight = torch.from_numpy(Wc.data)\n",
    "        pred=model(torch.Tensor(X),edge_index).argmax(dim=1)\n",
    "        pred=np.array(pred)\n",
    "        correct =(pred[zz]==labels[zz]).sum()\n",
    "        acc = int(correct) /NO_OF_NODES\n",
    "        return acc\n",
    "\n"
   ]
  },
  {
   "cell_type": "code",
   "execution_count": 31,
   "id": "a3ecbc8c",
   "metadata": {},
   "outputs": [],
   "source": [
    "def experiment_sparsity(lambda_param,beta_param,gamma_param,C,theta,X):\n",
    "      p = X.shape[0]\n",
    "      k = int(p*0.05)\n",
    "      n = X.shape[1]\n",
    "      ones = csr_matrix(np.ones((k,k)))\n",
    "      ones = convertScipyToTensor(ones)\n",
    "      ones = ones.to_dense()\n",
    "      J = np.outer(np.ones(k), np.ones(k))/k\n",
    "      J = csr_matrix(J)\n",
    "      J = convertScipyToTensor(J)\n",
    "      J = J.to_dense()\n",
    "      zeros = csr_matrix(np.zeros((p,k)))\n",
    "      zeros = convertScipyToTensor(zeros)\n",
    "      zeros = zeros.to_dense()\n",
    "      C = convertScipyToTensor(C)\n",
    "      C = C.to_dense()\n",
    "      eye = torch.eye(k)\n",
    "      try:\n",
    "        theta = convertScipyToTensor(theta)\n",
    "      except:\n",
    "        theta = theta\n",
    "      try:\n",
    "        X = convertScipyToTensor(X)\n",
    "        X = X.to_dense()\n",
    "      except:\n",
    "        X = X\n",
    "\n",
    "      if(torch.cuda.is_available()):\n",
    "        print(\"yes\")\n",
    "        C = C.cuda()\n",
    "        theta = theta.cuda()\n",
    "        X = X.cuda()\n",
    "        J = J.cuda()\n",
    "        zeros = zeros.cuda()\n",
    "        ones = ones.cuda()\n",
    "        eye = eye.cuda()\n",
    "\n",
    "      def update(C,i):\n",
    "          global L\n",
    "          thetaC = theta@C\n",
    "          CT = torch.transpose(C,0,1)\n",
    "          t1 = CT@thetaC + J\n",
    "          term_bracket = torch.linalg.pinv(t1)         \n",
    "          L = 1/k\n",
    "          t1 = -2*gamma_param*(thetaC@term_bracket)\n",
    "          t4 = lambda_param*(C@ones)\n",
    "          t5 = 2*beta_param*(thetaC@CT@thetaC)\n",
    "          T2=(t1+t4+t5)/L\n",
    "          Cnew = (C-T2).maximum(zeros)\n",
    "          Cnew[Cnew<thresh] = thresh\n",
    "          for i in range(len(Cnew)):\n",
    "              Cnew[i] = Cnew[i]/torch.linalg.norm(Cnew[i],1)\n",
    "          return Cnew\n",
    "    \n",
    "      for i in tqdm(range(20)):   #update C only 21\n",
    "          C = update(C,i)\n",
    "    \n",
    "\n",
    "      return C\n",
    "\n"
   ]
  },
  {
   "cell_type": "code",
   "execution_count": null,
   "id": "e30923b4",
   "metadata": {},
   "outputs": [
    {
     "name": "stdout",
     "output_type": "stream",
     "text": [
      "yes\n"
     ]
    },
    {
     "name": "stderr",
     "output_type": "stream",
     "text": [
      "100%|██████████████████████████████████████████████████████████████████████████████████| 20/20 [00:43<00:00,  2.15s/it]\n"
     ]
    },
    {
     "name": "stdout",
     "output_type": "stream",
     "text": [
      "Y: (20000,)\n",
      "X: (20000, 128)\n",
      "(2000, 20000)\n",
      "(20000, 128)\n",
      "Epoch: 000,loss: 3.6889\n",
      "Epoch: 050,loss: 0.0186\n",
      "Epoch: 100,loss: 0.0133\n",
      "Epoch: 150,loss: 0.0148\n",
      "Accuracy = 0.028 100 1000 1000\n",
      "Average accuracy = 2.8000000000000003 +/- 0.0\n",
      "Params =  100 1000 1000\n",
      "yes\n"
     ]
    },
    {
     "name": "stderr",
     "output_type": "stream",
     "text": [
      "100%|██████████████████████████████████████████████████████████████████████████████████| 20/20 [00:37<00:00,  1.89s/it]\n"
     ]
    },
    {
     "name": "stdout",
     "output_type": "stream",
     "text": [
      "Y: (20000,)\n",
      "X: (20000, 128)\n",
      "(2000, 20000)\n",
      "(20000, 128)\n",
      "Epoch: 000,loss: 3.6887\n",
      "Epoch: 050,loss: 0.0123\n",
      "Epoch: 100,loss: 0.0117\n",
      "Epoch: 150,loss: 0.0090\n",
      "Accuracy = 0.11455 100 1000 100\n",
      "Average accuracy = 11.455 +/- 0.0\n",
      "Params =  100 1000 100\n",
      "yes\n"
     ]
    },
    {
     "name": "stderr",
     "output_type": "stream",
     "text": [
      "100%|██████████████████████████████████████████████████████████████████████████████████| 20/20 [00:35<00:00,  1.76s/it]\n"
     ]
    },
    {
     "name": "stdout",
     "output_type": "stream",
     "text": [
      "Y: (20000,)\n",
      "X: (20000, 128)\n",
      "(2000, 20000)\n",
      "(20000, 128)\n",
      "Epoch: 000,loss: 3.6889\n",
      "Epoch: 050,loss: 0.0049\n",
      "Epoch: 100,loss: 0.0059\n",
      "Epoch: 150,loss: 0.0059\n",
      "Average accuracy = 2.5149999999999997 +/- 0.0\n",
      "Params =  100 1000 10\n",
      "yes\n"
     ]
    },
    {
     "name": "stderr",
     "output_type": "stream",
     "text": [
      "100%|██████████████████████████████████████████████████████████████████████████████████| 20/20 [00:37<00:00,  1.89s/it]\n"
     ]
    },
    {
     "name": "stdout",
     "output_type": "stream",
     "text": [
      "Y: (20000,)\n",
      "X: (20000, 128)\n",
      "(2000, 20000)\n",
      "(20000, 128)\n",
      "Epoch: 000,loss: 3.6889\n",
      "Epoch: 050,loss: 0.0056\n",
      "Epoch: 100,loss: 0.0047\n",
      "Epoch: 150,loss: 0.0039\n",
      "Average accuracy = 1.8900000000000001 +/- 0.0\n",
      "Params =  100 1000 1\n",
      "yes\n"
     ]
    },
    {
     "name": "stderr",
     "output_type": "stream",
     "text": [
      "100%|██████████████████████████████████████████████████████████████████████████████████| 20/20 [00:41<00:00,  2.05s/it]\n"
     ]
    },
    {
     "name": "stdout",
     "output_type": "stream",
     "text": [
      "Y: (20000,)\n",
      "X: (20000, 128)\n",
      "(2000, 20000)\n",
      "(20000, 128)\n",
      "Epoch: 000,loss: 3.6889\n",
      "Epoch: 050,loss: 0.0051\n",
      "Epoch: 100,loss: 0.0046\n",
      "Epoch: 150,loss: 0.0041\n",
      "Average accuracy = 2.93 +/- 0.0\n",
      "Params =  100 1000 0.1\n",
      "yes\n"
     ]
    },
    {
     "name": "stderr",
     "output_type": "stream",
     "text": [
      "100%|██████████████████████████████████████████████████████████████████████████████████| 20/20 [00:35<00:00,  1.77s/it]\n"
     ]
    },
    {
     "name": "stdout",
     "output_type": "stream",
     "text": [
      "Y: (20000,)\n",
      "X: (20000, 128)\n",
      "(2000, 20000)\n",
      "(20000, 128)\n",
      "Epoch: 000,loss: 3.6889\n",
      "Epoch: 050,loss: 0.0069\n",
      "Epoch: 100,loss: 0.0052\n",
      "Epoch: 150,loss: 0.0046\n",
      "Average accuracy = 2.8449999999999998 +/- 0.0\n",
      "Params =  100 1000 0.01\n",
      "yes\n"
     ]
    },
    {
     "name": "stderr",
     "output_type": "stream",
     "text": [
      "100%|██████████████████████████████████████████████████████████████████████████████████| 20/20 [00:40<00:00,  2.01s/it]\n"
     ]
    },
    {
     "name": "stdout",
     "output_type": "stream",
     "text": [
      "Y: (20000,)\n",
      "X: (20000, 128)\n",
      "(2000, 20000)\n",
      "(20000, 128)\n",
      "Epoch: 000,loss: 3.6889\n",
      "Epoch: 050,loss: 0.0061\n",
      "Epoch: 100,loss: 0.0044\n",
      "Epoch: 150,loss: 0.0043\n",
      "Average accuracy = 1.9300000000000002 +/- 0.0\n",
      "Params =  100 1000 0.001\n",
      "yes\n"
     ]
    },
    {
     "name": "stderr",
     "output_type": "stream",
     "text": [
      "100%|██████████████████████████████████████████████████████████████████████████████████| 20/20 [00:36<00:00,  1.83s/it]\n"
     ]
    },
    {
     "name": "stdout",
     "output_type": "stream",
     "text": [
      "Y: (20000,)\n",
      "X: (20000, 128)\n",
      "(2000, 20000)\n",
      "(20000, 128)\n",
      "Epoch: 000,loss: 3.6889\n",
      "Epoch: 050,loss: 0.0047\n",
      "Epoch: 100,loss: 0.0051\n",
      "Epoch: 150,loss: 0.0034\n",
      "Average accuracy = 2.0500000000000003 +/- 0.0\n",
      "Params =  100 1000 0.0001\n",
      "yes\n"
     ]
    },
    {
     "name": "stderr",
     "output_type": "stream",
     "text": [
      "100%|██████████████████████████████████████████████████████████████████████████████████| 20/20 [00:45<00:00,  2.27s/it]\n"
     ]
    },
    {
     "name": "stdout",
     "output_type": "stream",
     "text": [
      "Y: (20000,)\n",
      "X: (20000, 128)\n",
      "(2000, 20000)\n",
      "(20000, 128)\n",
      "Epoch: 000,loss: 3.6894\n",
      "Epoch: 050,loss: 0.0230\n",
      "Epoch: 100,loss: 0.0150\n",
      "Epoch: 150,loss: 0.0133\n",
      "Accuracy = 0.14295 100 100 1000\n",
      "Average accuracy = 14.295 +/- 0.0\n",
      "Params =  100 100 1000\n",
      "yes\n"
     ]
    },
    {
     "name": "stderr",
     "output_type": "stream",
     "text": [
      "100%|██████████████████████████████████████████████████████████████████████████████████| 20/20 [00:38<00:00,  1.92s/it]\n"
     ]
    },
    {
     "name": "stdout",
     "output_type": "stream",
     "text": [
      "Y: (20000,)\n",
      "X: (20000, 128)\n",
      "(2000, 20000)\n",
      "(20000, 128)\n",
      "Epoch: 000,loss: 3.6889\n",
      "Epoch: 050,loss: 0.0109\n",
      "Epoch: 100,loss: 0.0103\n",
      "Epoch: 150,loss: 0.0102\n",
      "Average accuracy = 7.5200000000000005 +/- 0.0\n",
      "Params =  100 100 100\n",
      "yes\n"
     ]
    },
    {
     "name": "stderr",
     "output_type": "stream",
     "text": [
      "100%|██████████████████████████████████████████████████████████████████████████████████| 20/20 [00:36<00:00,  1.82s/it]\n"
     ]
    },
    {
     "name": "stdout",
     "output_type": "stream",
     "text": [
      "Y: (20000,)\n",
      "X: (20000, 128)\n",
      "(2000, 20000)\n",
      "(20000, 128)\n",
      "Epoch: 000,loss: 3.6889\n",
      "Epoch: 050,loss: 0.0072\n",
      "Epoch: 100,loss: 0.0059\n",
      "Epoch: 150,loss: 0.0042\n",
      "Average accuracy = 1.73 +/- 0.0\n",
      "Params =  100 100 10\n",
      "yes\n"
     ]
    },
    {
     "name": "stderr",
     "output_type": "stream",
     "text": [
      "100%|██████████████████████████████████████████████████████████████████████████████████| 20/20 [00:33<00:00,  1.66s/it]\n"
     ]
    },
    {
     "name": "stdout",
     "output_type": "stream",
     "text": [
      "Y: (20000,)\n",
      "X: (20000, 128)\n",
      "(2000, 20000)\n",
      "(20000, 128)\n",
      "Epoch: 000,loss: 3.6889\n",
      "Epoch: 050,loss: 0.0086\n",
      "Epoch: 100,loss: 0.0047\n",
      "Epoch: 150,loss: 0.0041\n",
      "Average accuracy = 1.9349999999999998 +/- 0.0\n",
      "Params =  100 100 1\n",
      "yes\n"
     ]
    },
    {
     "name": "stderr",
     "output_type": "stream",
     "text": [
      "100%|██████████████████████████████████████████████████████████████████████████████████| 20/20 [00:34<00:00,  1.75s/it]\n"
     ]
    },
    {
     "name": "stdout",
     "output_type": "stream",
     "text": [
      "Y: (20000,)\n",
      "X: (20000, 128)\n",
      "(2000, 20000)\n",
      "(20000, 128)\n",
      "Epoch: 000,loss: 3.6889\n",
      "Epoch: 050,loss: 0.0070\n",
      "Epoch: 100,loss: 0.0061\n",
      "Epoch: 150,loss: 0.0045\n",
      "Average accuracy = 1.905 +/- 0.0\n",
      "Params =  100 100 0.1\n",
      "yes\n"
     ]
    },
    {
     "name": "stderr",
     "output_type": "stream",
     "text": [
      "100%|██████████████████████████████████████████████████████████████████████████████████| 20/20 [00:37<00:00,  1.87s/it]\n"
     ]
    },
    {
     "name": "stdout",
     "output_type": "stream",
     "text": [
      "Y: (20000,)\n",
      "X: (20000, 128)\n",
      "(2000, 20000)\n",
      "(20000, 128)\n",
      "Epoch: 000,loss: 3.6889\n",
      "Epoch: 050,loss: 0.0064\n",
      "Epoch: 100,loss: 0.0053\n",
      "Epoch: 150,loss: 0.0046\n",
      "Average accuracy = 3.025 +/- 0.0\n",
      "Params =  100 100 0.01\n",
      "yes\n"
     ]
    },
    {
     "name": "stderr",
     "output_type": "stream",
     "text": [
      "100%|██████████████████████████████████████████████████████████████████████████████████| 20/20 [00:38<00:00,  1.93s/it]\n"
     ]
    },
    {
     "name": "stdout",
     "output_type": "stream",
     "text": [
      "Y: (20000,)\n",
      "X: (20000, 128)\n",
      "(2000, 20000)\n",
      "(20000, 128)\n",
      "Epoch: 000,loss: 3.6889\n",
      "Epoch: 050,loss: 0.0069\n",
      "Epoch: 100,loss: 0.0051\n",
      "Epoch: 150,loss: 0.0047\n",
      "Average accuracy = 2.435 +/- 0.0\n",
      "Params =  100 100 0.001\n",
      "yes\n"
     ]
    },
    {
     "name": "stderr",
     "output_type": "stream",
     "text": [
      "100%|██████████████████████████████████████████████████████████████████████████████████| 20/20 [00:40<00:00,  2.01s/it]\n"
     ]
    },
    {
     "name": "stdout",
     "output_type": "stream",
     "text": [
      "Y: (20000,)\n",
      "X: (20000, 128)\n",
      "(2000, 20000)\n",
      "(20000, 128)\n",
      "Epoch: 000,loss: 3.6889\n",
      "Epoch: 050,loss: 0.0051\n",
      "Epoch: 100,loss: 0.0068\n",
      "Epoch: 150,loss: 0.0038\n",
      "Average accuracy = 2.5749999999999997 +/- 0.0\n",
      "Params =  100 100 0.0001\n",
      "yes\n"
     ]
    },
    {
     "name": "stderr",
     "output_type": "stream",
     "text": [
      "100%|██████████████████████████████████████████████████████████████████████████████████| 20/20 [00:41<00:00,  2.06s/it]\n"
     ]
    },
    {
     "name": "stdout",
     "output_type": "stream",
     "text": [
      "Y: (20000,)\n",
      "X: (20000, 128)\n",
      "(2000, 20000)\n",
      "(20000, 128)\n",
      "Epoch: 000,loss: 3.8057\n",
      "Epoch: 050,loss: 1.1559\n",
      "Epoch: 100,loss: 0.8633\n",
      "Epoch: 150,loss: 0.7199\n",
      "Accuracy = 0.33335 100 10 1000\n",
      "Average accuracy = 33.335 +/- 0.0\n",
      "Params =  100 10 1000\n",
      "yes\n"
     ]
    },
    {
     "name": "stderr",
     "output_type": "stream",
     "text": [
      "100%|██████████████████████████████████████████████████████████████████████████████████| 20/20 [00:37<00:00,  1.88s/it]\n"
     ]
    },
    {
     "name": "stdout",
     "output_type": "stream",
     "text": [
      "Y: (20000,)\n",
      "X: (20000, 128)\n",
      "(2000, 20000)\n",
      "(20000, 128)\n",
      "Epoch: 000,loss: 3.8154\n",
      "Epoch: 050,loss: 0.1304\n",
      "Epoch: 100,loss: 0.1098\n",
      "Epoch: 150,loss: 0.1101\n",
      "Accuracy = 0.40365 100 10 100\n",
      "Average accuracy = 40.365 +/- 0.0\n",
      "Params =  100 10 100\n",
      "yes\n"
     ]
    },
    {
     "name": "stderr",
     "output_type": "stream",
     "text": [
      "100%|██████████████████████████████████████████████████████████████████████████████████| 20/20 [00:33<00:00,  1.70s/it]\n"
     ]
    },
    {
     "name": "stdout",
     "output_type": "stream",
     "text": [
      "Y: (20000,)\n",
      "X: (20000, 128)\n",
      "(2000, 20000)\n",
      "(20000, 128)\n",
      "Epoch: 000,loss: 3.6889\n",
      "Epoch: 050,loss: 0.0046\n",
      "Epoch: 100,loss: 0.0049\n",
      "Epoch: 150,loss: 0.0052\n",
      "Average accuracy = 2.545 +/- 0.0\n",
      "Params =  100 10 10\n",
      "yes\n"
     ]
    },
    {
     "name": "stderr",
     "output_type": "stream",
     "text": [
      "100%|██████████████████████████████████████████████████████████████████████████████████| 20/20 [00:34<00:00,  1.74s/it]\n"
     ]
    },
    {
     "name": "stdout",
     "output_type": "stream",
     "text": [
      "Y: (20000,)\n",
      "X: (20000, 128)\n",
      "(2000, 20000)\n",
      "(20000, 128)\n",
      "Epoch: 000,loss: 3.6889\n",
      "Epoch: 050,loss: 0.0052\n",
      "Epoch: 100,loss: 0.0046\n",
      "Epoch: 150,loss: 0.0047\n",
      "Average accuracy = 1.7049999999999998 +/- 0.0\n",
      "Params =  100 10 1\n",
      "yes\n"
     ]
    },
    {
     "name": "stderr",
     "output_type": "stream",
     "text": [
      "100%|██████████████████████████████████████████████████████████████████████████████████| 20/20 [00:27<00:00,  1.37s/it]\n"
     ]
    },
    {
     "name": "stdout",
     "output_type": "stream",
     "text": [
      "Y: (20000,)\n",
      "X: (20000, 128)\n",
      "(2000, 20000)\n",
      "(20000, 128)\n",
      "Epoch: 000,loss: 3.6889\n",
      "Epoch: 050,loss: 0.0063\n",
      "Epoch: 100,loss: 0.0062\n",
      "Epoch: 150,loss: 0.0047\n",
      "Average accuracy = 2.64 +/- 0.0\n",
      "Params =  100 10 0.1\n",
      "yes\n"
     ]
    },
    {
     "name": "stderr",
     "output_type": "stream",
     "text": [
      "100%|██████████████████████████████████████████████████████████████████████████████████| 20/20 [00:27<00:00,  1.40s/it]\n"
     ]
    },
    {
     "name": "stdout",
     "output_type": "stream",
     "text": [
      "Y: (20000,)\n",
      "X: (20000, 128)\n",
      "(2000, 20000)\n",
      "(20000, 128)\n",
      "Epoch: 000,loss: 3.6889\n",
      "Epoch: 050,loss: 0.0060\n",
      "Epoch: 100,loss: 0.0047\n",
      "Epoch: 150,loss: 0.0042\n",
      "Average accuracy = 1.97 +/- 0.0\n",
      "Params =  100 10 0.01\n",
      "yes\n"
     ]
    },
    {
     "name": "stderr",
     "output_type": "stream",
     "text": [
      "100%|██████████████████████████████████████████████████████████████████████████████████| 20/20 [00:37<00:00,  1.85s/it]\n"
     ]
    },
    {
     "name": "stdout",
     "output_type": "stream",
     "text": [
      "Y: (20000,)\n",
      "X: (20000, 128)\n",
      "(2000, 20000)\n",
      "(20000, 128)\n",
      "Epoch: 000,loss: 3.6889\n",
      "Epoch: 050,loss: 0.0065\n",
      "Epoch: 100,loss: 0.0035\n",
      "Epoch: 150,loss: 0.0046\n",
      "Average accuracy = 3.0700000000000003 +/- 0.0\n",
      "Params =  100 10 0.001\n",
      "yes\n"
     ]
    },
    {
     "name": "stderr",
     "output_type": "stream",
     "text": [
      "100%|██████████████████████████████████████████████████████████████████████████████████| 20/20 [00:43<00:00,  2.18s/it]\n"
     ]
    },
    {
     "name": "stdout",
     "output_type": "stream",
     "text": [
      "Y: (20000,)\n",
      "X: (20000, 128)\n",
      "(2000, 20000)\n",
      "(20000, 128)\n",
      "Epoch: 000,loss: 3.6889\n",
      "Epoch: 050,loss: 0.0061\n",
      "Epoch: 100,loss: 0.0055\n",
      "Epoch: 150,loss: 0.0053\n",
      "Average accuracy = 2.995 +/- 0.0\n",
      "Params =  100 10 0.0001\n",
      "yes\n"
     ]
    },
    {
     "name": "stderr",
     "output_type": "stream",
     "text": [
      "100%|██████████████████████████████████████████████████████████████████████████████████| 20/20 [00:53<00:00,  2.67s/it]\n"
     ]
    },
    {
     "name": "stdout",
     "output_type": "stream",
     "text": [
      "Y: (20000,)\n",
      "X: (20000, 128)\n",
      "(2000, 20000)\n",
      "(20000, 128)\n",
      "Epoch: 000,loss: 3.7500\n",
      "Epoch: 050,loss: 1.3337\n",
      "Epoch: 100,loss: 1.0375\n",
      "Epoch: 150,loss: 0.8537\n",
      "Average accuracy = 26.625 +/- 0.0\n",
      "Params =  100 1 1000\n",
      "yes\n"
     ]
    },
    {
     "name": "stderr",
     "output_type": "stream",
     "text": [
      "100%|██████████████████████████████████████████████████████████████████████████████████| 20/20 [00:50<00:00,  2.50s/it]\n"
     ]
    },
    {
     "name": "stdout",
     "output_type": "stream",
     "text": [
      "Y: (20000,)\n",
      "X: (20000, 128)\n",
      "(2000, 20000)\n",
      "(20000, 128)\n",
      "Epoch: 000,loss: 3.9289\n",
      "Epoch: 050,loss: 0.2281\n",
      "Epoch: 100,loss: 0.1425\n",
      "Epoch: 150,loss: 0.1167\n",
      "Accuracy = 0.449 100 1 100\n",
      "Average accuracy = 44.9 +/- 0.0\n",
      "Params =  100 1 100\n",
      "yes\n"
     ]
    },
    {
     "name": "stderr",
     "output_type": "stream",
     "text": [
      "100%|██████████████████████████████████████████████████████████████████████████████████| 20/20 [00:40<00:00,  2.03s/it]\n"
     ]
    },
    {
     "name": "stdout",
     "output_type": "stream",
     "text": [
      "Y: (20000,)\n",
      "X: (20000, 128)\n",
      "(2000, 20000)\n",
      "(20000, 128)\n",
      "Epoch: 000,loss: 3.6889\n",
      "Epoch: 050,loss: 0.0058\n",
      "Epoch: 100,loss: 0.0037\n",
      "Epoch: 150,loss: 0.0048\n",
      "Average accuracy = 2.13 +/- 0.0\n",
      "Params =  100 1 10\n",
      "yes\n"
     ]
    },
    {
     "name": "stderr",
     "output_type": "stream",
     "text": [
      "100%|██████████████████████████████████████████████████████████████████████████████████| 20/20 [00:42<00:00,  2.11s/it]\n"
     ]
    },
    {
     "name": "stdout",
     "output_type": "stream",
     "text": [
      "Y: (20000,)\n",
      "X: (20000, 128)\n",
      "(2000, 20000)\n",
      "(20000, 128)\n",
      "Epoch: 000,loss: 3.6889\n",
      "Epoch: 050,loss: 0.0064\n",
      "Epoch: 100,loss: 0.0056\n",
      "Epoch: 150,loss: 0.0048\n",
      "Average accuracy = 2.62 +/- 0.0\n",
      "Params =  100 1 1\n",
      "yes\n"
     ]
    },
    {
     "name": "stderr",
     "output_type": "stream",
     "text": [
      "100%|██████████████████████████████████████████████████████████████████████████████████| 20/20 [00:37<00:00,  1.88s/it]\n"
     ]
    },
    {
     "name": "stdout",
     "output_type": "stream",
     "text": [
      "Y: (20000,)\n",
      "X: (20000, 128)\n",
      "(2000, 20000)\n",
      "(20000, 128)\n",
      "Epoch: 000,loss: 3.6889\n",
      "Epoch: 050,loss: 0.0066\n",
      "Epoch: 100,loss: 0.0053\n",
      "Epoch: 150,loss: 0.0051\n",
      "Average accuracy = 3.0 +/- 0.0\n",
      "Params =  100 1 0.1\n",
      "yes\n"
     ]
    },
    {
     "name": "stderr",
     "output_type": "stream",
     "text": [
      "100%|██████████████████████████████████████████████████████████████████████████████████| 20/20 [00:40<00:00,  2.02s/it]\n"
     ]
    },
    {
     "name": "stdout",
     "output_type": "stream",
     "text": [
      "Y: (20000,)\n",
      "X: (20000, 128)\n",
      "(2000, 20000)\n",
      "(20000, 128)\n",
      "Epoch: 000,loss: 3.6889\n",
      "Epoch: 050,loss: 0.0062\n",
      "Epoch: 100,loss: 0.0050\n",
      "Epoch: 150,loss: 0.0051\n",
      "Average accuracy = 2.255 +/- 0.0\n",
      "Params =  100 1 0.01\n",
      "yes\n"
     ]
    },
    {
     "name": "stderr",
     "output_type": "stream",
     "text": [
      "100%|██████████████████████████████████████████████████████████████████████████████████| 20/20 [00:48<00:00,  2.43s/it]\n"
     ]
    },
    {
     "name": "stdout",
     "output_type": "stream",
     "text": [
      "Y: (20000,)\n",
      "X: (20000, 128)\n",
      "(2000, 20000)\n",
      "(20000, 128)\n",
      "Epoch: 000,loss: 3.6889\n",
      "Epoch: 050,loss: 0.0061\n",
      "Epoch: 100,loss: 0.0056\n",
      "Epoch: 150,loss: 0.0057\n",
      "Average accuracy = 2.83 +/- 0.0\n",
      "Params =  100 1 0.001\n",
      "yes\n"
     ]
    },
    {
     "name": "stderr",
     "output_type": "stream",
     "text": [
      "100%|██████████████████████████████████████████████████████████████████████████████████| 20/20 [00:43<00:00,  2.16s/it]\n"
     ]
    },
    {
     "name": "stdout",
     "output_type": "stream",
     "text": [
      "Y: (20000,)\n",
      "X: (20000, 128)\n",
      "(2000, 20000)\n",
      "(20000, 128)\n",
      "Epoch: 000,loss: 3.6889\n",
      "Epoch: 050,loss: 0.0062\n",
      "Epoch: 100,loss: 0.0052\n",
      "Epoch: 150,loss: 0.0044\n",
      "Average accuracy = 2.4899999999999998 +/- 0.0\n",
      "Params =  100 1 0.0001\n",
      "yes\n"
     ]
    },
    {
     "name": "stderr",
     "output_type": "stream",
     "text": [
      "100%|██████████████████████████████████████████████████████████████████████████████████| 20/20 [00:49<00:00,  2.49s/it]\n"
     ]
    },
    {
     "name": "stdout",
     "output_type": "stream",
     "text": [
      "Y: (20000,)\n",
      "X: (20000, 128)\n",
      "(2000, 20000)\n",
      "(20000, 128)\n",
      "Epoch: 000,loss: 4.1205\n",
      "Epoch: 050,loss: 1.1112\n",
      "Epoch: 100,loss: 0.8174\n",
      "Epoch: 150,loss: 0.6532\n",
      "Average accuracy = 34.875 +/- 0.0\n",
      "Params =  100 0.1 1000\n",
      "yes\n"
     ]
    },
    {
     "name": "stderr",
     "output_type": "stream",
     "text": [
      "100%|██████████████████████████████████████████████████████████████████████████████████| 20/20 [00:55<00:00,  2.77s/it]\n"
     ]
    },
    {
     "name": "stdout",
     "output_type": "stream",
     "text": [
      "Y: (20000,)\n",
      "X: (20000, 128)\n",
      "(2000, 20000)\n",
      "(20000, 128)\n",
      "Epoch: 000,loss: 4.0694\n",
      "Epoch: 050,loss: 0.3093\n",
      "Epoch: 100,loss: 0.1937\n",
      "Epoch: 150,loss: 0.1576\n",
      "Accuracy = 0.4547 100 0.1 100\n",
      "Average accuracy = 45.47 +/- 0.0\n",
      "Params =  100 0.1 100\n",
      "yes\n"
     ]
    },
    {
     "name": "stderr",
     "output_type": "stream",
     "text": [
      "100%|██████████████████████████████████████████████████████████████████████████████████| 20/20 [00:42<00:00,  2.13s/it]\n"
     ]
    },
    {
     "name": "stdout",
     "output_type": "stream",
     "text": [
      "Y: (20000,)\n",
      "X: (20000, 128)\n",
      "(2000, 20000)\n",
      "(20000, 128)\n",
      "Epoch: 000,loss: 3.6889\n",
      "Epoch: 050,loss: 0.0077\n",
      "Epoch: 100,loss: 0.0036\n",
      "Epoch: 150,loss: 0.0040\n",
      "Average accuracy = 1.76 +/- 0.0\n",
      "Params =  100 0.1 10\n",
      "yes\n"
     ]
    },
    {
     "name": "stderr",
     "output_type": "stream",
     "text": [
      "100%|██████████████████████████████████████████████████████████████████████████████████| 20/20 [00:41<00:00,  2.05s/it]\n"
     ]
    },
    {
     "name": "stdout",
     "output_type": "stream",
     "text": [
      "Y: (20000,)\n",
      "X: (20000, 128)\n",
      "(2000, 20000)\n",
      "(20000, 128)\n",
      "Epoch: 000,loss: 3.6889\n",
      "Epoch: 050,loss: 0.0060\n",
      "Epoch: 100,loss: 0.0038\n",
      "Epoch: 150,loss: 0.0043\n",
      "Average accuracy = 2.385 +/- 0.0\n",
      "Params =  100 0.1 1\n",
      "yes\n"
     ]
    },
    {
     "name": "stderr",
     "output_type": "stream",
     "text": [
      "100%|██████████████████████████████████████████████████████████████████████████████████| 20/20 [00:45<00:00,  2.27s/it]\n"
     ]
    },
    {
     "name": "stdout",
     "output_type": "stream",
     "text": [
      "Y: (20000,)\n",
      "X: (20000, 128)\n",
      "(2000, 20000)\n",
      "(20000, 128)\n",
      "Epoch: 000,loss: 3.6889\n",
      "Epoch: 050,loss: 0.0061\n",
      "Epoch: 100,loss: 0.0051\n",
      "Epoch: 150,loss: 0.0049\n",
      "Average accuracy = 2.35 +/- 0.0\n",
      "Params =  100 0.1 0.1\n",
      "yes\n"
     ]
    },
    {
     "name": "stderr",
     "output_type": "stream",
     "text": [
      "100%|██████████████████████████████████████████████████████████████████████████████████| 20/20 [00:31<00:00,  1.59s/it]\n"
     ]
    },
    {
     "name": "stdout",
     "output_type": "stream",
     "text": [
      "Y: (20000,)\n",
      "X: (20000, 128)\n",
      "(2000, 20000)\n",
      "(20000, 128)\n",
      "Epoch: 000,loss: 3.6889\n",
      "Epoch: 050,loss: 0.0062\n",
      "Epoch: 100,loss: 0.0053\n",
      "Epoch: 150,loss: 0.0047\n",
      "Average accuracy = 3.4799999999999995 +/- 0.0\n",
      "Params =  100 0.1 0.01\n",
      "yes\n"
     ]
    },
    {
     "name": "stderr",
     "output_type": "stream",
     "text": [
      "100%|██████████████████████████████████████████████████████████████████████████████████| 20/20 [00:36<00:00,  1.85s/it]\n"
     ]
    },
    {
     "name": "stdout",
     "output_type": "stream",
     "text": [
      "Y: (20000,)\n",
      "X: (20000, 128)\n",
      "(2000, 20000)\n",
      "(20000, 128)\n",
      "Epoch: 000,loss: 3.6889\n",
      "Epoch: 050,loss: 0.0071\n",
      "Epoch: 100,loss: 0.0037\n",
      "Epoch: 150,loss: 0.0047\n",
      "Average accuracy = 2.11 +/- 0.0\n",
      "Params =  100 0.1 0.001\n",
      "yes\n"
     ]
    },
    {
     "name": "stderr",
     "output_type": "stream",
     "text": [
      "100%|██████████████████████████████████████████████████████████████████████████████████| 20/20 [00:30<00:00,  1.54s/it]\n"
     ]
    },
    {
     "name": "stdout",
     "output_type": "stream",
     "text": [
      "Y: (20000,)\n",
      "X: (20000, 128)\n",
      "(2000, 20000)\n",
      "(20000, 128)\n",
      "Epoch: 000,loss: 3.6889\n",
      "Epoch: 050,loss: 0.0076\n",
      "Epoch: 100,loss: 0.0043\n",
      "Epoch: 150,loss: 0.0052\n",
      "Average accuracy = 2.74 +/- 0.0\n",
      "Params =  100 0.1 0.0001\n",
      "yes\n"
     ]
    },
    {
     "name": "stderr",
     "output_type": "stream",
     "text": [
      "100%|██████████████████████████████████████████████████████████████████████████████████| 20/20 [00:45<00:00,  2.28s/it]\n"
     ]
    },
    {
     "name": "stdout",
     "output_type": "stream",
     "text": [
      "Y: (20000,)\n",
      "X: (20000, 128)\n",
      "(2000, 20000)\n",
      "(20000, 128)\n",
      "Epoch: 000,loss: 4.3427\n",
      "Epoch: 050,loss: 0.5930\n",
      "Epoch: 100,loss: 0.3815\n",
      "Epoch: 150,loss: 0.3017\n",
      "Average accuracy = 42.15 +/- 0.0\n",
      "Params =  100 0.01 1000\n",
      "yes\n"
     ]
    },
    {
     "name": "stderr",
     "output_type": "stream",
     "text": [
      "100%|██████████████████████████████████████████████████████████████████████████████████| 20/20 [00:45<00:00,  2.26s/it]\n"
     ]
    },
    {
     "name": "stdout",
     "output_type": "stream",
     "text": [
      "Y: (20000,)\n",
      "X: (20000, 128)\n",
      "(2000, 20000)\n",
      "(20000, 128)\n",
      "Epoch: 000,loss: 3.9400\n",
      "Epoch: 050,loss: 0.2048\n",
      "Epoch: 100,loss: 0.1592\n",
      "Epoch: 150,loss: 0.1277\n",
      "Average accuracy = 41.55 +/- 0.0\n",
      "Params =  100 0.01 100\n",
      "yes\n"
     ]
    },
    {
     "name": "stderr",
     "output_type": "stream",
     "text": [
      "100%|██████████████████████████████████████████████████████████████████████████████████| 20/20 [00:33<00:00,  1.65s/it]\n"
     ]
    },
    {
     "name": "stdout",
     "output_type": "stream",
     "text": [
      "Y: (20000,)\n",
      "X: (20000, 128)\n",
      "(2000, 20000)\n",
      "(20000, 128)\n",
      "Epoch: 000,loss: 3.6889\n",
      "Epoch: 050,loss: 0.0052\n",
      "Epoch: 100,loss: 0.0056\n",
      "Epoch: 150,loss: 0.0050\n",
      "Average accuracy = 1.6549999999999998 +/- 0.0\n",
      "Params =  100 0.01 10\n",
      "yes\n"
     ]
    },
    {
     "name": "stderr",
     "output_type": "stream",
     "text": [
      "100%|██████████████████████████████████████████████████████████████████████████████████| 20/20 [00:27<00:00,  1.39s/it]\n"
     ]
    },
    {
     "name": "stdout",
     "output_type": "stream",
     "text": [
      "Y: (20000,)\n",
      "X: (20000, 128)\n",
      "(2000, 20000)\n",
      "(20000, 128)\n",
      "Epoch: 000,loss: 3.6889\n",
      "Epoch: 050,loss: 0.0059\n",
      "Epoch: 100,loss: 0.0038\n",
      "Epoch: 150,loss: 0.0049\n",
      "Average accuracy = 2.565 +/- 0.0\n",
      "Params =  100 0.01 1\n",
      "yes\n"
     ]
    },
    {
     "name": "stderr",
     "output_type": "stream",
     "text": [
      "100%|██████████████████████████████████████████████████████████████████████████████████| 20/20 [00:28<00:00,  1.41s/it]\n"
     ]
    },
    {
     "name": "stdout",
     "output_type": "stream",
     "text": [
      "Y: (20000,)\n",
      "X: (20000, 128)\n",
      "(2000, 20000)\n",
      "(20000, 128)\n",
      "Epoch: 000,loss: 3.6889\n",
      "Epoch: 050,loss: 0.0059\n",
      "Epoch: 100,loss: 0.0041\n",
      "Epoch: 150,loss: 0.0047\n",
      "Average accuracy = 2.4 +/- 0.0\n",
      "Params =  100 0.01 0.1\n",
      "yes\n"
     ]
    },
    {
     "name": "stderr",
     "output_type": "stream",
     "text": [
      "100%|██████████████████████████████████████████████████████████████████████████████████| 20/20 [00:35<00:00,  1.75s/it]\n"
     ]
    },
    {
     "name": "stdout",
     "output_type": "stream",
     "text": [
      "Y: (20000,)\n",
      "X: (20000, 128)\n",
      "(2000, 20000)\n",
      "(20000, 128)\n",
      "Epoch: 000,loss: 3.6889\n",
      "Epoch: 050,loss: 0.0048\n",
      "Epoch: 100,loss: 0.0048\n",
      "Epoch: 150,loss: 0.0042\n",
      "Average accuracy = 2.235 +/- 0.0\n",
      "Params =  100 0.01 0.01\n",
      "yes\n"
     ]
    },
    {
     "name": "stderr",
     "output_type": "stream",
     "text": [
      "100%|██████████████████████████████████████████████████████████████████████████████████| 20/20 [00:41<00:00,  2.07s/it]\n"
     ]
    },
    {
     "name": "stdout",
     "output_type": "stream",
     "text": [
      "Y: (20000,)\n",
      "X: (20000, 128)\n",
      "(2000, 20000)\n",
      "(20000, 128)\n",
      "Epoch: 000,loss: 3.6889\n",
      "Epoch: 050,loss: 0.0065\n",
      "Epoch: 100,loss: 0.0046\n",
      "Epoch: 150,loss: 0.0047\n",
      "Average accuracy = 2.1399999999999997 +/- 0.0\n",
      "Params =  100 0.01 0.001\n",
      "yes\n"
     ]
    },
    {
     "name": "stderr",
     "output_type": "stream",
     "text": [
      "100%|██████████████████████████████████████████████████████████████████████████████████| 20/20 [00:38<00:00,  1.92s/it]\n"
     ]
    },
    {
     "name": "stdout",
     "output_type": "stream",
     "text": [
      "Y: (20000,)\n",
      "X: (20000, 128)\n",
      "(2000, 20000)\n",
      "(20000, 128)\n",
      "Epoch: 000,loss: 3.6889\n",
      "Epoch: 050,loss: 0.0063\n",
      "Epoch: 100,loss: 0.0038\n",
      "Epoch: 150,loss: 0.0042\n",
      "Average accuracy = 3.0349999999999997 +/- 0.0\n",
      "Params =  100 0.01 0.0001\n",
      "yes\n"
     ]
    },
    {
     "name": "stderr",
     "output_type": "stream",
     "text": [
      "100%|██████████████████████████████████████████████████████████████████████████████████| 20/20 [00:46<00:00,  2.34s/it]\n"
     ]
    },
    {
     "name": "stdout",
     "output_type": "stream",
     "text": [
      "Y: (20000,)\n",
      "X: (20000, 128)\n",
      "(2000, 20000)\n",
      "(20000, 128)\n",
      "Epoch: 000,loss: 3.7543\n",
      "Epoch: 050,loss: 0.0642\n",
      "Epoch: 100,loss: 0.0551\n",
      "Epoch: 150,loss: 0.0515\n",
      "Average accuracy = 32.005 +/- 0.0\n",
      "Params =  100 0.001 1000\n",
      "yes\n"
     ]
    },
    {
     "name": "stderr",
     "output_type": "stream",
     "text": [
      "100%|██████████████████████████████████████████████████████████████████████████████████| 20/20 [00:42<00:00,  2.10s/it]\n"
     ]
    },
    {
     "name": "stdout",
     "output_type": "stream",
     "text": [
      "Y: (20000,)\n",
      "X: (20000, 128)\n",
      "(2000, 20000)\n",
      "(20000, 128)\n",
      "Epoch: 000,loss: 3.7345\n",
      "Epoch: 050,loss: 0.0240\n",
      "Epoch: 100,loss: 0.0223\n",
      "Epoch: 150,loss: 0.0228\n",
      "Average accuracy = 30.320000000000004 +/- 0.0\n",
      "Params =  100 0.001 100\n",
      "yes\n"
     ]
    },
    {
     "name": "stderr",
     "output_type": "stream",
     "text": [
      "100%|██████████████████████████████████████████████████████████████████████████████████| 20/20 [00:39<00:00,  1.95s/it]\n"
     ]
    },
    {
     "name": "stdout",
     "output_type": "stream",
     "text": [
      "Y: (20000,)\n",
      "X: (20000, 128)\n",
      "(2000, 20000)\n",
      "(20000, 128)\n",
      "Epoch: 000,loss: 3.6889\n",
      "Epoch: 050,loss: 0.0065\n",
      "Epoch: 100,loss: 0.0050\n",
      "Epoch: 150,loss: 0.0040\n",
      "Average accuracy = 1.32 +/- 0.0\n",
      "Params =  100 0.001 10\n",
      "yes\n"
     ]
    },
    {
     "name": "stderr",
     "output_type": "stream",
     "text": [
      "100%|██████████████████████████████████████████████████████████████████████████████████| 20/20 [00:32<00:00,  1.65s/it]\n"
     ]
    },
    {
     "name": "stdout",
     "output_type": "stream",
     "text": [
      "Y: (20000,)\n",
      "X: (20000, 128)\n",
      "(2000, 20000)\n",
      "(20000, 128)\n",
      "Epoch: 000,loss: 3.6889\n",
      "Epoch: 050,loss: 0.0063\n",
      "Epoch: 100,loss: 0.0041\n",
      "Epoch: 150,loss: 0.0048\n",
      "Average accuracy = 2.2800000000000002 +/- 0.0\n",
      "Params =  100 0.001 1\n",
      "yes\n"
     ]
    },
    {
     "name": "stderr",
     "output_type": "stream",
     "text": [
      "100%|██████████████████████████████████████████████████████████████████████████████████| 20/20 [00:36<00:00,  1.84s/it]\n"
     ]
    },
    {
     "name": "stdout",
     "output_type": "stream",
     "text": [
      "Y: (20000,)\n",
      "X: (20000, 128)\n",
      "(2000, 20000)\n",
      "(20000, 128)\n",
      "Epoch: 000,loss: 3.6889\n",
      "Epoch: 050,loss: 0.0063\n",
      "Epoch: 100,loss: 0.0043\n",
      "Epoch: 150,loss: 0.0036\n",
      "Average accuracy = 2.815 +/- 0.0\n",
      "Params =  100 0.001 0.1\n",
      "yes\n"
     ]
    },
    {
     "name": "stderr",
     "output_type": "stream",
     "text": [
      "100%|██████████████████████████████████████████████████████████████████████████████████| 20/20 [00:35<00:00,  1.80s/it]\n"
     ]
    },
    {
     "name": "stdout",
     "output_type": "stream",
     "text": [
      "Y: (20000,)\n",
      "X: (20000, 128)\n",
      "(2000, 20000)\n",
      "(20000, 128)\n",
      "Epoch: 000,loss: 3.6889\n",
      "Epoch: 050,loss: 0.0054\n",
      "Epoch: 100,loss: 0.0057\n",
      "Epoch: 150,loss: 0.0044\n",
      "Average accuracy = 3.405 +/- 0.0\n",
      "Params =  100 0.001 0.01\n",
      "yes\n"
     ]
    },
    {
     "name": "stderr",
     "output_type": "stream",
     "text": [
      "100%|██████████████████████████████████████████████████████████████████████████████████| 20/20 [00:45<00:00,  2.25s/it]\n"
     ]
    },
    {
     "name": "stdout",
     "output_type": "stream",
     "text": [
      "Y: (20000,)\n",
      "X: (20000, 128)\n",
      "(2000, 20000)\n",
      "(20000, 128)\n",
      "Epoch: 000,loss: 3.6889\n",
      "Epoch: 050,loss: 0.0050\n",
      "Epoch: 100,loss: 0.0053\n",
      "Epoch: 150,loss: 0.0052\n",
      "Average accuracy = 2.4 +/- 0.0\n",
      "Params =  100 0.001 0.001\n",
      "yes\n"
     ]
    },
    {
     "name": "stderr",
     "output_type": "stream",
     "text": [
      "100%|██████████████████████████████████████████████████████████████████████████████████| 20/20 [00:38<00:00,  1.91s/it]\n"
     ]
    },
    {
     "name": "stdout",
     "output_type": "stream",
     "text": [
      "Y: (20000,)\n",
      "X: (20000, 128)\n",
      "(2000, 20000)\n",
      "(20000, 128)\n",
      "Epoch: 000,loss: 3.6889\n",
      "Epoch: 050,loss: 0.0043\n",
      "Epoch: 100,loss: 0.0066\n",
      "Epoch: 150,loss: 0.0052\n",
      "Average accuracy = 2.37 +/- 0.0\n",
      "Params =  100 0.001 0.0001\n",
      "yes\n"
     ]
    },
    {
     "name": "stderr",
     "output_type": "stream",
     "text": [
      "100%|██████████████████████████████████████████████████████████████████████████████████| 20/20 [00:46<00:00,  2.33s/it]\n"
     ]
    },
    {
     "name": "stdout",
     "output_type": "stream",
     "text": [
      "Y: (20000,)\n",
      "X: (20000, 128)\n",
      "(2000, 20000)\n",
      "(20000, 128)\n",
      "Epoch: 000,loss: 3.7074\n",
      "Epoch: 050,loss: 0.0254\n",
      "Epoch: 100,loss: 0.0194\n",
      "Epoch: 150,loss: 0.0206\n",
      "Average accuracy = 18.85 +/- 0.0\n",
      "Params =  100 0.0001 1000\n",
      "yes\n"
     ]
    },
    {
     "name": "stderr",
     "output_type": "stream",
     "text": [
      "100%|██████████████████████████████████████████████████████████████████████████████████| 20/20 [00:36<00:00,  1.84s/it]\n"
     ]
    },
    {
     "name": "stdout",
     "output_type": "stream",
     "text": [
      "Y: (20000,)\n",
      "X: (20000, 128)\n",
      "(2000, 20000)\n",
      "(20000, 128)\n",
      "Epoch: 000,loss: 3.6956\n",
      "Epoch: 050,loss: 0.0068\n",
      "Epoch: 100,loss: 0.0064\n",
      "Epoch: 150,loss: 0.0059\n",
      "Average accuracy = 9.030000000000001 +/- 0.0\n",
      "Params =  100 0.0001 100\n",
      "yes\n"
     ]
    },
    {
     "name": "stderr",
     "output_type": "stream",
     "text": [
      "100%|██████████████████████████████████████████████████████████████████████████████████| 20/20 [00:35<00:00,  1.75s/it]\n"
     ]
    },
    {
     "name": "stdout",
     "output_type": "stream",
     "text": [
      "Y: (20000,)\n",
      "X: (20000, 128)\n",
      "(2000, 20000)\n",
      "(20000, 128)\n",
      "Epoch: 000,loss: 3.6889\n",
      "Epoch: 050,loss: 0.0074\n",
      "Epoch: 100,loss: 0.0047\n",
      "Epoch: 150,loss: 0.0060\n",
      "Average accuracy = 2.365 +/- 0.0\n",
      "Params =  100 0.0001 10\n",
      "yes\n"
     ]
    },
    {
     "name": "stderr",
     "output_type": "stream",
     "text": [
      "100%|██████████████████████████████████████████████████████████████████████████████████| 20/20 [00:36<00:00,  1.81s/it]\n"
     ]
    },
    {
     "name": "stdout",
     "output_type": "stream",
     "text": [
      "Y: (20000,)\n",
      "X: (20000, 128)\n",
      "(2000, 20000)\n",
      "(20000, 128)\n",
      "Epoch: 000,loss: 3.6889\n",
      "Epoch: 050,loss: 0.0068\n",
      "Epoch: 100,loss: 0.0041\n",
      "Epoch: 150,loss: 0.0044\n",
      "Average accuracy = 1.7999999999999998 +/- 0.0\n",
      "Params =  100 0.0001 1\n",
      "yes\n"
     ]
    },
    {
     "name": "stderr",
     "output_type": "stream",
     "text": [
      "100%|██████████████████████████████████████████████████████████████████████████████████| 20/20 [00:35<00:00,  1.80s/it]\n"
     ]
    },
    {
     "name": "stdout",
     "output_type": "stream",
     "text": [
      "Y: (20000,)\n",
      "X: (20000, 128)\n",
      "(2000, 20000)\n",
      "(20000, 128)\n",
      "Epoch: 000,loss: 3.6889\n",
      "Epoch: 050,loss: 0.0061\n",
      "Epoch: 100,loss: 0.0056\n",
      "Epoch: 150,loss: 0.0050\n",
      "Average accuracy = 1.92 +/- 0.0\n",
      "Params =  100 0.0001 0.1\n",
      "yes\n"
     ]
    },
    {
     "name": "stderr",
     "output_type": "stream",
     "text": [
      "100%|██████████████████████████████████████████████████████████████████████████████████| 20/20 [00:36<00:00,  1.83s/it]\n"
     ]
    },
    {
     "name": "stdout",
     "output_type": "stream",
     "text": [
      "Y: (20000,)\n",
      "X: (20000, 128)\n",
      "(2000, 20000)\n",
      "(20000, 128)\n",
      "Epoch: 000,loss: 3.6889\n",
      "Epoch: 050,loss: 0.0050\n",
      "Epoch: 100,loss: 0.0058\n",
      "Epoch: 150,loss: 0.0052\n",
      "Average accuracy = 3.405 +/- 0.0\n",
      "Params =  100 0.0001 0.01\n",
      "yes\n"
     ]
    },
    {
     "name": "stderr",
     "output_type": "stream",
     "text": [
      "100%|██████████████████████████████████████████████████████████████████████████████████| 20/20 [00:34<00:00,  1.72s/it]\n"
     ]
    },
    {
     "name": "stdout",
     "output_type": "stream",
     "text": [
      "Y: (20000,)\n",
      "X: (20000, 128)\n",
      "(2000, 20000)\n",
      "(20000, 128)\n",
      "Epoch: 000,loss: 3.6889\n",
      "Epoch: 050,loss: 0.0056\n",
      "Epoch: 100,loss: 0.0052\n",
      "Epoch: 150,loss: 0.0058\n",
      "Average accuracy = 2.555 +/- 0.0\n",
      "Params =  100 0.0001 0.001\n",
      "yes\n"
     ]
    },
    {
     "name": "stderr",
     "output_type": "stream",
     "text": [
      "100%|██████████████████████████████████████████████████████████████████████████████████| 20/20 [00:38<00:00,  1.93s/it]\n"
     ]
    },
    {
     "name": "stdout",
     "output_type": "stream",
     "text": [
      "Y: (20000,)\n",
      "X: (20000, 128)\n",
      "(2000, 20000)\n",
      "(20000, 128)\n",
      "Epoch: 000,loss: 3.6889\n",
      "Epoch: 050,loss: 0.0058\n",
      "Epoch: 100,loss: 0.0048\n",
      "Epoch: 150,loss: 0.0060\n",
      "Average accuracy = 1.8950000000000002 +/- 0.0\n",
      "Params =  100 0.0001 0.0001\n",
      "yes\n"
     ]
    },
    {
     "name": "stderr",
     "output_type": "stream",
     "text": [
      "100%|██████████████████████████████████████████████████████████████████████████████████| 20/20 [00:44<00:00,  2.23s/it]\n"
     ]
    },
    {
     "name": "stdout",
     "output_type": "stream",
     "text": [
      "Y: (20000,)\n",
      "X: (20000, 128)\n",
      "(2000, 20000)\n",
      "(20000, 128)\n",
      "Epoch: 000,loss: 3.8994\n",
      "Epoch: 050,loss: 1.3476\n",
      "Epoch: 100,loss: 1.0419\n",
      "Epoch: 150,loss: 0.8776\n",
      "Average accuracy = 26.840000000000003 +/- 0.0\n",
      "Params =  10 1000 1000\n",
      "yes\n"
     ]
    },
    {
     "name": "stderr",
     "output_type": "stream",
     "text": [
      "100%|██████████████████████████████████████████████████████████████████████████████████| 20/20 [00:41<00:00,  2.08s/it]\n"
     ]
    },
    {
     "name": "stdout",
     "output_type": "stream",
     "text": [
      "Y: (20000,)\n",
      "X: (20000, 128)\n",
      "(2000, 20000)\n",
      "(20000, 128)\n",
      "Epoch: 000,loss: 3.6889\n",
      "Epoch: 050,loss: 0.0180\n",
      "Epoch: 100,loss: 0.0130\n",
      "Epoch: 150,loss: 0.0155\n",
      "Average accuracy = 8.375 +/- 0.0\n",
      "Params =  10 1000 100\n",
      "yes\n"
     ]
    },
    {
     "name": "stderr",
     "output_type": "stream",
     "text": [
      "100%|██████████████████████████████████████████████████████████████████████████████████| 20/20 [00:36<00:00,  1.81s/it]\n"
     ]
    },
    {
     "name": "stdout",
     "output_type": "stream",
     "text": [
      "Y: (20000,)\n",
      "X: (20000, 128)\n",
      "(2000, 20000)\n",
      "(20000, 128)\n",
      "Epoch: 000,loss: 3.6889\n",
      "Epoch: 050,loss: 0.0169\n",
      "Epoch: 100,loss: 0.0135\n",
      "Epoch: 150,loss: 0.0135\n",
      "Average accuracy = 8.795 +/- 0.0\n",
      "Params =  10 1000 10\n",
      "yes\n"
     ]
    },
    {
     "name": "stderr",
     "output_type": "stream",
     "text": [
      "100%|██████████████████████████████████████████████████████████████████████████████████| 20/20 [00:30<00:00,  1.55s/it]\n"
     ]
    },
    {
     "name": "stdout",
     "output_type": "stream",
     "text": [
      "Y: (20000,)\n",
      "X: (20000, 128)\n",
      "(2000, 20000)\n",
      "(20000, 128)\n",
      "Epoch: 000,loss: 3.6889\n",
      "Epoch: 050,loss: 0.0057\n",
      "Epoch: 100,loss: 0.0040\n",
      "Epoch: 150,loss: 0.0047\n",
      "Average accuracy = 12.115 +/- 0.0\n",
      "Params =  10 1000 1\n",
      "yes\n"
     ]
    },
    {
     "name": "stderr",
     "output_type": "stream",
     "text": [
      "100%|██████████████████████████████████████████████████████████████████████████████████| 20/20 [00:36<00:00,  1.83s/it]\n"
     ]
    },
    {
     "name": "stdout",
     "output_type": "stream",
     "text": [
      "Y: (20000,)\n",
      "X: (20000, 128)\n",
      "(2000, 20000)\n",
      "(20000, 128)\n",
      "Epoch: 000,loss: 3.6890\n",
      "Epoch: 050,loss: 0.0061\n",
      "Epoch: 100,loss: 0.0051\n",
      "Epoch: 150,loss: 0.0054\n",
      "Average accuracy = 13.56 +/- 0.0\n",
      "Params =  10 1000 0.1\n",
      "yes\n"
     ]
    },
    {
     "name": "stderr",
     "output_type": "stream",
     "text": [
      "100%|██████████████████████████████████████████████████████████████████████████████████| 20/20 [00:32<00:00,  1.60s/it]\n"
     ]
    },
    {
     "name": "stdout",
     "output_type": "stream",
     "text": [
      "Y: (20000,)\n",
      "X: (20000, 128)\n",
      "(2000, 20000)\n",
      "(20000, 128)\n",
      "Epoch: 000,loss: 3.6890\n",
      "Epoch: 050,loss: 0.0002\n",
      "Epoch: 100,loss: 0.0003\n",
      "Epoch: 150,loss: 0.0002\n",
      "Average accuracy = 12.98 +/- 0.0\n",
      "Params =  10 1000 0.01\n",
      "yes\n"
     ]
    },
    {
     "name": "stderr",
     "output_type": "stream",
     "text": [
      "100%|██████████████████████████████████████████████████████████████████████████████████| 20/20 [00:29<00:00,  1.49s/it]\n"
     ]
    },
    {
     "name": "stdout",
     "output_type": "stream",
     "text": [
      "Y: (20000,)\n",
      "X: (20000, 128)\n",
      "(2000, 20000)\n",
      "(20000, 128)\n",
      "Epoch: 000,loss: 3.6889\n",
      "Epoch: 050,loss: 0.0059\n",
      "Epoch: 100,loss: 0.0039\n",
      "Epoch: 150,loss: 0.0041\n",
      "Average accuracy = 13.530000000000001 +/- 0.0\n",
      "Params =  10 1000 0.001\n",
      "yes\n"
     ]
    },
    {
     "name": "stderr",
     "output_type": "stream",
     "text": [
      "100%|██████████████████████████████████████████████████████████████████████████████████| 20/20 [00:28<00:00,  1.40s/it]\n"
     ]
    },
    {
     "name": "stdout",
     "output_type": "stream",
     "text": [
      "Y: (20000,)\n",
      "X: (20000, 128)\n",
      "(2000, 20000)\n",
      "(20000, 128)\n",
      "Epoch: 000,loss: 3.6889\n",
      "Epoch: 050,loss: 0.0058\n",
      "Epoch: 100,loss: 0.0051\n",
      "Epoch: 150,loss: 0.0044\n",
      "Average accuracy = 13.639999999999999 +/- 0.0\n",
      "Params =  10 1000 0.0001\n",
      "yes\n"
     ]
    },
    {
     "name": "stderr",
     "output_type": "stream",
     "text": [
      "100%|██████████████████████████████████████████████████████████████████████████████████| 20/20 [00:47<00:00,  2.38s/it]\n"
     ]
    },
    {
     "name": "stdout",
     "output_type": "stream",
     "text": [
      "Y: (20000,)\n",
      "X: (20000, 128)\n",
      "(2000, 20000)\n",
      "(20000, 128)\n",
      "Epoch: 000,loss: 3.7240\n",
      "Epoch: 050,loss: 1.3167\n",
      "Epoch: 100,loss: 1.0185\n",
      "Epoch: 150,loss: 0.8647\n",
      "Average accuracy = 28.09 +/- 0.0\n",
      "Params =  10 100 1000\n",
      "yes\n"
     ]
    },
    {
     "name": "stderr",
     "output_type": "stream",
     "text": [
      "100%|██████████████████████████████████████████████████████████████████████████████████| 20/20 [00:43<00:00,  2.16s/it]\n"
     ]
    },
    {
     "name": "stdout",
     "output_type": "stream",
     "text": [
      "Y: (20000,)\n",
      "X: (20000, 128)\n",
      "(2000, 20000)\n",
      "(20000, 128)\n",
      "Epoch: 000,loss: 3.6889\n",
      "Epoch: 050,loss: 0.0125\n",
      "Epoch: 100,loss: 0.0121\n",
      "Epoch: 150,loss: 0.0114\n",
      "Average accuracy = 2.275 +/- 0.0\n",
      "Params =  10 100 100\n",
      "yes\n"
     ]
    },
    {
     "name": "stderr",
     "output_type": "stream",
     "text": [
      "100%|██████████████████████████████████████████████████████████████████████████████████| 20/20 [00:43<00:00,  2.19s/it]\n"
     ]
    },
    {
     "name": "stdout",
     "output_type": "stream",
     "text": [
      "Y: (20000,)\n",
      "X: (20000, 128)\n",
      "(2000, 20000)\n",
      "(20000, 128)\n",
      "Epoch: 000,loss: 3.6887\n",
      "Epoch: 050,loss: 0.0133\n",
      "Epoch: 100,loss: 0.0112\n",
      "Epoch: 150,loss: 0.0092\n",
      "Average accuracy = 11.785 +/- 0.0\n",
      "Params =  10 100 10\n",
      "yes\n"
     ]
    },
    {
     "name": "stderr",
     "output_type": "stream",
     "text": [
      "100%|██████████████████████████████████████████████████████████████████████████████████| 20/20 [00:41<00:00,  2.05s/it]\n"
     ]
    },
    {
     "name": "stdout",
     "output_type": "stream",
     "text": [
      "Y: (20000,)\n",
      "X: (20000, 128)\n",
      "(2000, 20000)\n",
      "(20000, 128)\n",
      "Epoch: 000,loss: 3.6889\n",
      "Epoch: 050,loss: 0.0059\n",
      "Epoch: 100,loss: 0.0042\n",
      "Epoch: 150,loss: 0.0056\n",
      "Average accuracy = 2.445 +/- 0.0\n",
      "Params =  10 100 1\n",
      "yes\n"
     ]
    },
    {
     "name": "stderr",
     "output_type": "stream",
     "text": [
      "100%|██████████████████████████████████████████████████████████████████████████████████| 20/20 [00:35<00:00,  1.77s/it]\n"
     ]
    },
    {
     "name": "stdout",
     "output_type": "stream",
     "text": [
      "Y: (20000,)\n",
      "X: (20000, 128)\n",
      "(2000, 20000)\n",
      "(20000, 128)\n",
      "Epoch: 000,loss: 3.6889\n",
      "Epoch: 050,loss: 0.0058\n",
      "Epoch: 100,loss: 0.0048\n",
      "Epoch: 150,loss: 0.0049\n",
      "Average accuracy = 2.385 +/- 0.0\n",
      "Params =  10 100 0.1\n",
      "yes\n"
     ]
    },
    {
     "name": "stderr",
     "output_type": "stream",
     "text": [
      "100%|██████████████████████████████████████████████████████████████████████████████████| 20/20 [00:39<00:00,  2.00s/it]\n"
     ]
    },
    {
     "name": "stdout",
     "output_type": "stream",
     "text": [
      "Y: (20000,)\n",
      "X: (20000, 128)\n",
      "(2000, 20000)\n",
      "(20000, 128)\n",
      "Epoch: 000,loss: 3.6889\n",
      "Epoch: 050,loss: 0.0066\n",
      "Epoch: 100,loss: 0.0054\n",
      "Epoch: 150,loss: 0.0058\n",
      "Average accuracy = 1.875 +/- 0.0\n",
      "Params =  10 100 0.01\n",
      "yes\n"
     ]
    },
    {
     "name": "stderr",
     "output_type": "stream",
     "text": [
      "100%|██████████████████████████████████████████████████████████████████████████████████| 20/20 [00:39<00:00,  2.00s/it]\n"
     ]
    },
    {
     "name": "stdout",
     "output_type": "stream",
     "text": [
      "Y: (20000,)\n",
      "X: (20000, 128)\n",
      "(2000, 20000)\n",
      "(20000, 128)\n",
      "Epoch: 000,loss: 3.6889\n",
      "Epoch: 050,loss: 0.0062\n",
      "Epoch: 100,loss: 0.0048\n",
      "Epoch: 150,loss: 0.0041\n",
      "Average accuracy = 2.41 +/- 0.0\n",
      "Params =  10 100 0.001\n",
      "yes\n"
     ]
    },
    {
     "name": "stderr",
     "output_type": "stream",
     "text": [
      "100%|██████████████████████████████████████████████████████████████████████████████████| 20/20 [00:42<00:00,  2.15s/it]\n"
     ]
    },
    {
     "name": "stdout",
     "output_type": "stream",
     "text": [
      "Y: (20000,)\n",
      "X: (20000, 128)\n",
      "(2000, 20000)\n",
      "(20000, 128)\n",
      "Epoch: 000,loss: 3.6889\n",
      "Epoch: 050,loss: 0.0052\n",
      "Epoch: 100,loss: 0.0054\n",
      "Epoch: 150,loss: 0.0043\n",
      "Average accuracy = 2.9000000000000004 +/- 0.0\n",
      "Params =  10 100 0.0001\n",
      "yes\n"
     ]
    },
    {
     "name": "stderr",
     "output_type": "stream",
     "text": [
      "100%|██████████████████████████████████████████████████████████████████████████████████| 20/20 [00:54<00:00,  2.70s/it]\n"
     ]
    },
    {
     "name": "stdout",
     "output_type": "stream",
     "text": [
      "Y: (20000,)\n",
      "X: (20000, 128)\n",
      "(2000, 20000)\n",
      "(20000, 128)\n",
      "Epoch: 000,loss: 3.8727\n",
      "Epoch: 050,loss: 1.3328\n",
      "Epoch: 100,loss: 1.0014\n",
      "Epoch: 150,loss: 0.8637\n",
      "Average accuracy = 28.785 +/- 0.0\n",
      "Params =  10 10 1000\n",
      "yes\n"
     ]
    },
    {
     "name": "stderr",
     "output_type": "stream",
     "text": [
      "100%|██████████████████████████████████████████████████████████████████████████████████| 20/20 [00:46<00:00,  2.33s/it]\n"
     ]
    },
    {
     "name": "stdout",
     "output_type": "stream",
     "text": [
      "Y: (20000,)\n",
      "X: (20000, 128)\n",
      "(2000, 20000)\n",
      "(20000, 128)\n",
      "Epoch: 000,loss: 3.6890\n",
      "Epoch: 050,loss: 0.0167\n",
      "Epoch: 100,loss: 0.0139\n",
      "Epoch: 150,loss: 0.0134\n",
      "Average accuracy = 7.95 +/- 0.0\n",
      "Params =  10 10 100\n",
      "yes\n"
     ]
    },
    {
     "name": "stderr",
     "output_type": "stream",
     "text": [
      "100%|██████████████████████████████████████████████████████████████████████████████████| 20/20 [00:53<00:00,  2.65s/it]\n"
     ]
    },
    {
     "name": "stdout",
     "output_type": "stream",
     "text": [
      "Y: (20000,)\n",
      "X: (20000, 128)\n",
      "(2000, 20000)\n",
      "(20000, 128)\n",
      "Epoch: 000,loss: 3.6887\n",
      "Epoch: 050,loss: 0.0126\n",
      "Epoch: 100,loss: 0.0109\n",
      "Epoch: 150,loss: 0.0116\n",
      "Average accuracy = 10.58 +/- 0.0\n",
      "Params =  10 10 10\n",
      "yes\n"
     ]
    },
    {
     "name": "stderr",
     "output_type": "stream",
     "text": [
      "100%|██████████████████████████████████████████████████████████████████████████████████| 20/20 [01:03<00:00,  3.19s/it]\n"
     ]
    },
    {
     "name": "stdout",
     "output_type": "stream",
     "text": [
      "Y: (20000,)\n",
      "X: (20000, 128)\n",
      "(2000, 20000)\n",
      "(20000, 128)\n",
      "Epoch: 000,loss: 3.6889\n",
      "Epoch: 050,loss: 0.0066\n",
      "Epoch: 100,loss: 0.0033\n",
      "Epoch: 150,loss: 0.0039\n",
      "Average accuracy = 1.9849999999999999 +/- 0.0\n",
      "Params =  10 10 1\n",
      "yes\n"
     ]
    },
    {
     "name": "stderr",
     "output_type": "stream",
     "text": [
      "100%|██████████████████████████████████████████████████████████████████████████████████| 20/20 [00:45<00:00,  2.29s/it]\n"
     ]
    },
    {
     "name": "stdout",
     "output_type": "stream",
     "text": [
      "Y: (20000,)\n",
      "X: (20000, 128)\n",
      "(2000, 20000)\n",
      "(20000, 128)\n",
      "Epoch: 000,loss: 3.6889\n",
      "Epoch: 050,loss: 0.0061\n",
      "Epoch: 100,loss: 0.0051\n",
      "Epoch: 150,loss: 0.0051\n",
      "Average accuracy = 1.585 +/- 0.0\n",
      "Params =  10 10 0.1\n",
      "yes\n"
     ]
    },
    {
     "name": "stderr",
     "output_type": "stream",
     "text": [
      "100%|██████████████████████████████████████████████████████████████████████████████████| 20/20 [00:45<00:00,  2.26s/it]\n"
     ]
    },
    {
     "name": "stdout",
     "output_type": "stream",
     "text": [
      "Y: (20000,)\n",
      "X: (20000, 128)\n",
      "(2000, 20000)\n",
      "(20000, 128)\n",
      "Epoch: 000,loss: 3.6889\n",
      "Epoch: 050,loss: 0.0058\n",
      "Epoch: 100,loss: 0.0045\n",
      "Epoch: 150,loss: 0.0039\n",
      "Average accuracy = 2.8899999999999997 +/- 0.0\n",
      "Params =  10 10 0.01\n",
      "yes\n"
     ]
    },
    {
     "name": "stderr",
     "output_type": "stream",
     "text": [
      "100%|██████████████████████████████████████████████████████████████████████████████████| 20/20 [00:36<00:00,  1.85s/it]\n"
     ]
    },
    {
     "name": "stdout",
     "output_type": "stream",
     "text": [
      "Y: (20000,)\n",
      "X: (20000, 128)\n",
      "(2000, 20000)\n",
      "(20000, 128)\n",
      "Epoch: 000,loss: 3.6889\n",
      "Epoch: 050,loss: 0.0068\n",
      "Epoch: 100,loss: 0.0031\n",
      "Epoch: 150,loss: 0.0039\n",
      "Average accuracy = 2.0650000000000004 +/- 0.0\n",
      "Params =  10 10 0.001\n",
      "yes\n"
     ]
    },
    {
     "name": "stderr",
     "output_type": "stream",
     "text": [
      "100%|██████████████████████████████████████████████████████████████████████████████████| 20/20 [00:48<00:00,  2.43s/it]\n"
     ]
    },
    {
     "name": "stdout",
     "output_type": "stream",
     "text": [
      "Y: (20000,)\n",
      "X: (20000, 128)\n",
      "(2000, 20000)\n",
      "(20000, 128)\n",
      "Epoch: 000,loss: 3.6889\n",
      "Epoch: 050,loss: 0.0071\n",
      "Epoch: 100,loss: 0.0056\n",
      "Epoch: 150,loss: 0.0048\n",
      "Average accuracy = 2.11 +/- 0.0\n",
      "Params =  10 10 0.0001\n",
      "yes\n"
     ]
    },
    {
     "name": "stderr",
     "output_type": "stream",
     "text": [
      "100%|██████████████████████████████████████████████████████████████████████████████████| 20/20 [00:46<00:00,  2.33s/it]\n"
     ]
    },
    {
     "name": "stdout",
     "output_type": "stream",
     "text": [
      "Y: (20000,)\n",
      "X: (20000, 128)\n",
      "(2000, 20000)\n",
      "(20000, 128)\n",
      "Epoch: 000,loss: 3.7106\n",
      "Epoch: 050,loss: 1.3000\n",
      "Epoch: 100,loss: 0.9805\n",
      "Epoch: 150,loss: 0.8263\n",
      "Average accuracy = 26.915 +/- 0.0\n",
      "Params =  10 1 1000\n",
      "yes\n"
     ]
    },
    {
     "name": "stderr",
     "output_type": "stream",
     "text": [
      "100%|██████████████████████████████████████████████████████████████████████████████████| 20/20 [00:40<00:00,  2.02s/it]\n"
     ]
    },
    {
     "name": "stdout",
     "output_type": "stream",
     "text": [
      "Y: (20000,)\n",
      "X: (20000, 128)\n",
      "(2000, 20000)\n",
      "(20000, 128)\n",
      "Epoch: 000,loss: 3.7560\n",
      "Epoch: 050,loss: 1.2664\n",
      "Epoch: 100,loss: 0.9547\n",
      "Epoch: 150,loss: 0.7876\n",
      "Average accuracy = 29.835 +/- 0.0\n",
      "Params =  10 1 100\n",
      "yes\n"
     ]
    },
    {
     "name": "stderr",
     "output_type": "stream",
     "text": [
      "100%|██████████████████████████████████████████████████████████████████████████████████| 20/20 [00:45<00:00,  2.27s/it]\n"
     ]
    },
    {
     "name": "stdout",
     "output_type": "stream",
     "text": [
      "Y: (20000,)\n",
      "X: (20000, 128)\n",
      "(2000, 20000)\n",
      "(20000, 128)\n",
      "Epoch: 000,loss: 3.8501\n",
      "Epoch: 050,loss: 0.1051\n",
      "Epoch: 100,loss: 0.0852\n",
      "Epoch: 150,loss: 0.0792\n",
      "Average accuracy = 39.7 +/- 0.0\n",
      "Params =  10 1 10\n",
      "yes\n"
     ]
    },
    {
     "name": "stderr",
     "output_type": "stream",
     "text": [
      "100%|██████████████████████████████████████████████████████████████████████████████████| 20/20 [00:43<00:00,  2.16s/it]\n"
     ]
    },
    {
     "name": "stdout",
     "output_type": "stream",
     "text": [
      "Y: (20000,)\n",
      "X: (20000, 128)\n",
      "(2000, 20000)\n",
      "(20000, 128)\n",
      "Epoch: 000,loss: 3.6889\n",
      "Epoch: 050,loss: 0.0059\n",
      "Epoch: 100,loss: 0.0061\n",
      "Epoch: 150,loss: 0.0059\n",
      "Average accuracy = 3.02 +/- 0.0\n",
      "Params =  10 1 1\n",
      "yes\n"
     ]
    },
    {
     "name": "stderr",
     "output_type": "stream",
     "text": [
      "100%|██████████████████████████████████████████████████████████████████████████████████| 20/20 [00:28<00:00,  1.45s/it]\n"
     ]
    },
    {
     "name": "stdout",
     "output_type": "stream",
     "text": [
      "Y: (20000,)\n",
      "X: (20000, 128)\n",
      "(2000, 20000)\n",
      "(20000, 128)\n",
      "Epoch: 000,loss: 3.6889\n",
      "Epoch: 050,loss: 0.0053\n",
      "Epoch: 100,loss: 0.0039\n",
      "Epoch: 150,loss: 0.0042\n",
      "Average accuracy = 2.7550000000000003 +/- 0.0\n",
      "Params =  10 1 0.1\n",
      "yes\n"
     ]
    },
    {
     "name": "stderr",
     "output_type": "stream",
     "text": [
      "100%|██████████████████████████████████████████████████████████████████████████████████| 20/20 [00:27<00:00,  1.39s/it]\n"
     ]
    },
    {
     "name": "stdout",
     "output_type": "stream",
     "text": [
      "Y: (20000,)\n",
      "X: (20000, 128)\n",
      "(2000, 20000)\n",
      "(20000, 128)\n",
      "Epoch: 000,loss: 3.6889\n",
      "Epoch: 050,loss: 0.0054\n",
      "Epoch: 100,loss: 0.0043\n",
      "Epoch: 150,loss: 0.0053\n",
      "Average accuracy = 2.905 +/- 0.0\n",
      "Params =  10 1 0.01\n",
      "yes\n"
     ]
    },
    {
     "name": "stderr",
     "output_type": "stream",
     "text": [
      "100%|██████████████████████████████████████████████████████████████████████████████████| 20/20 [00:36<00:00,  1.80s/it]\n"
     ]
    },
    {
     "name": "stdout",
     "output_type": "stream",
     "text": [
      "Y: (20000,)\n",
      "X: (20000, 128)\n",
      "(2000, 20000)\n",
      "(20000, 128)\n",
      "Epoch: 000,loss: 3.6889\n",
      "Epoch: 050,loss: 0.0063\n",
      "Epoch: 100,loss: 0.0049\n",
      "Epoch: 150,loss: 0.0043\n",
      "Average accuracy = 2.825 +/- 0.0\n",
      "Params =  10 1 0.001\n",
      "yes\n"
     ]
    },
    {
     "name": "stderr",
     "output_type": "stream",
     "text": [
      "100%|██████████████████████████████████████████████████████████████████████████████████| 20/20 [01:02<00:00,  3.12s/it]\n"
     ]
    },
    {
     "name": "stdout",
     "output_type": "stream",
     "text": [
      "Y: (20000,)\n",
      "X: (20000, 128)\n",
      "(2000, 20000)\n",
      "(20000, 128)\n",
      "Epoch: 000,loss: 3.6889\n",
      "Epoch: 050,loss: 0.0040\n",
      "Epoch: 100,loss: 0.0041\n",
      "Epoch: 150,loss: 0.0050\n",
      "Average accuracy = 1.96 +/- 0.0\n",
      "Params =  10 1 0.0001\n"
     ]
    }
   ],
   "source": [
    "import seaborn as sns\n",
    "import time   \n",
    "        \n",
    "highest_accuracy=0\n",
    "# lambda_param = 0.001\n",
    "#0.0001,0.0001,10,0.0001\n",
    "for lambda_param in [100,10,1,0.1,0.01,0.001,0.0001]:\n",
    "  for beta_param in [1000,100,10,1,0.1,0.01,0.001,0.0001]:\n",
    "      for gamma_param in [1000,100,10,1,0.1,0.01,0.001,0.0001]:\n",
    "            \n",
    "        av = []\n",
    "        for _ in range(1):\n",
    "            avg_accuracy_all=[]\n",
    "            X=X.cuda()\n",
    "            for _ in range(1):\n",
    "              C = random(p, k, density=0.15, random_state=1, data_rvs=temp2.rvs)\n",
    "              theta = theta.cuda()\n",
    "              a = time.time()\n",
    "\n",
    "              C_0 = experiment_sparsity(lambda_param,beta_param,gamma_param,C,theta,X)\n",
    "              b = time.time()\n",
    "              C_0 = C_0.cuda()\n",
    "              L = theta\n",
    "          \n",
    "              pseudo_C = torch.linalg.pinv(C_0)\n",
    "              \n",
    "              C_test = C_0.cpu().detach().numpy()\n",
    "           \n",
    "              L_test = L.cpu().detach().numpy() \n",
    "              c = time.time()\n",
    "              acc = get_accuracy(C_test,L_test)\n",
    "              d = time.time()\n",
    "#               print(\"Time taken:\", b-a+d-c)\n",
    "              av.append(acc)\n",
    "              if highest_accuracy<acc:\n",
    "                highest_accuracy=acc\n",
    "                print(\"Accuracy = \" + str(acc) + \" \" + str(lambda_param)+\" \" + str(beta_param)+\" \"+str(gamma_param))\n",
    "        print(\"Average accuracy = \" + str(np.mean(av)*100)  + \" +/- \" + str(np.std(av)*100))\n",
    "        print(\"Params =  \" + str(lambda_param)+\" \" + str(beta_param)+\" \"+str(gamma_param))"
   ]
  },
  {
   "cell_type": "code",
   "execution_count": null,
   "id": "26b830ed",
   "metadata": {},
   "outputs": [],
   "source": [
    "highest_accuracy"
   ]
  },
  {
   "cell_type": "code",
   "execution_count": null,
   "id": "e391972e",
   "metadata": {},
   "outputs": [],
   "source": [
    "Epoch: 000,loss: 4.2302\n",
    "Epoch: 050,loss: 0.3416\n",
    "Epoch: 100,loss: 0.1972\n",
    "Epoch: 150,loss: 0.1607\n",
    "Accuracy = 0.466 1000 1 1000\n",
    "Average accuracy = 46.6 +/- 0.0\n",
    "Params =  1000 1 1000"
   ]
  },
  {
   "cell_type": "code",
   "execution_count": null,
   "id": "f92c1eb3",
   "metadata": {},
   "outputs": [],
   "source": []
  },
  {
   "cell_type": "code",
   "execution_count": null,
   "id": "993df80b",
   "metadata": {},
   "outputs": [],
   "source": []
  },
  {
   "cell_type": "code",
   "execution_count": null,
   "id": "178ba7cc",
   "metadata": {},
   "outputs": [],
   "source": []
  },
  {
   "cell_type": "code",
   "execution_count": null,
   "id": "ba24af5f",
   "metadata": {},
   "outputs": [],
   "source": []
  }
 ],
 "metadata": {
  "kernelspec": {
   "display_name": "Python 3 (ipykernel)",
   "language": "python",
   "name": "python3"
  },
  "language_info": {
   "codemirror_mode": {
    "name": "ipython",
    "version": 3
   },
   "file_extension": ".py",
   "mimetype": "text/x-python",
   "name": "python",
   "nbconvert_exporter": "python",
   "pygments_lexer": "ipython3",
   "version": "3.9.7"
  }
 },
 "nbformat": 4,
 "nbformat_minor": 5
}
