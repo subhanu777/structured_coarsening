{
 "cells": [
  {
   "cell_type": "code",
   "execution_count": 14,
   "metadata": {},
   "outputs": [
    {
     "name": "stdout",
     "output_type": "stream",
     "text": [
      "torch.Size([3327, 3703]) torch.Size([3327, 3327])\n",
      "Data(x=[3327, 3703], edge_index=[2, 9104], y=[3327], train_mask=[3327], val_mask=[3327], test_mask=[3327])\n",
      "torch.Size([3327, 3327])\n"
     ]
    }
   ],
   "source": [
    "import numpy as np\n",
    "import pandas as pd\n",
    "import networkx as nx\n",
    "import matplotlib.pyplot as plt\n",
    "import sklearn.datasets as skd\n",
    "import sklearn.metrics as skm\n",
    "from time import *\n",
    "from tqdm import tqdm\n",
    "from torch_geometric.utils import to_dense_adj\n",
    "import os\n",
    "import torch\n",
    "from sgl import LearnGraphTopolgy\n",
    "os.getcwd()\n",
    "dataset = os.path.join(os.getcwd(),'Citeseer')\n",
    "dataset\n",
    "from torch_geometric.datasets import Planetoid\n",
    "dataset= Planetoid(root=dataset, name='Citeseer')\n",
    "x = dataset[0].x.detach().cpu().numpy()\n",
    "labels = dataset[0].y\n",
    "NO_OF_CLASSES =  len(set(np.array(dataset[0].y)))\n",
    "\n",
    "\n",
    "\n",
    "\n",
    "\n",
    "\n",
    "adj = to_dense_adj(dataset[0].edge_index)\n",
    "adj = adj[0]\n",
    "labels = dataset[0].y\n",
    "labels = labels.numpy()\n",
    "\n",
    "X = dataset[0].x\n",
    "X = X.to_dense()\n",
    "N = X.shape[0]\n",
    "NO_OF_CLASSES =  len(set(np.array(dataset[0].y)))\n",
    "\n",
    "print(X.shape, adj.shape)\n",
    "\n",
    "nn = int(1*N)\n",
    "X = X[:nn,:]\n",
    "adj = adj[:nn,:nn]\n",
    "A = adj[:nn,:nn]\n",
    "AT= torch.transpose(A,0,1)\n",
    "labels = labels[:nn]\n",
    "print(dataset[0])\n",
    "\n",
    "\n",
    "def get_laplacian(adj):\n",
    "    b=torch.ones(adj.shape[0])\n",
    "    return torch.diag(adj@b)-adj\n",
    "\n",
    "theta = get_laplacian(adj)\n",
    "print(theta.shape)"
   ]
  },
  {
   "cell_type": "code",
   "execution_count": 2,
   "metadata": {},
   "outputs": [
    {
     "data": {
      "text/plain": [
       "torch.Size([3327, 3703])"
      ]
     },
     "execution_count": 2,
     "metadata": {},
     "output_type": "execute_result"
    }
   ],
   "source": [
    "X.shape"
   ]
  },
  {
   "cell_type": "code",
   "execution_count": 4,
   "metadata": {},
   "outputs": [
    {
     "data": {
      "text/plain": [
       "3327"
      ]
     },
     "execution_count": 4,
     "metadata": {},
     "output_type": "execute_result"
    }
   ],
   "source": [
    "S = np.dot(X, X.T)\n",
    "Sinv = np.linalg.pinv(S)\n",
    "Sinv.shape[1]"
   ]
  },
  {
   "cell_type": "code",
   "execution_count": null,
   "metadata": {},
   "outputs": [
    {
     "name": "stderr",
     "output_type": "stream",
     "text": [
      " 20%|███████████████▍                                                               | 49/250 [37:55<2:22:53, 42.66s/it]"
     ]
    }
   ],
   "source": [
    "S = np.dot(X, X.T)\n",
    "\n",
    "# estimate underlying graph\n",
    "sgl = LearnGraphTopolgy(S, maxiter=250, record_objective = True, record_weights = True)\n",
    "# graph = sgl.learn_k_component_graph(w0 = 'qp', k=5, beta=1 )\n",
    "graph = sgl.learn_k_component_graph(k=6, beta=2)\n",
    "\n",
    "# build network\n",
    "A = graph['adjacency']\n",
    "G = nx.from_numpy_matrix(A)\n",
    "print('Graph statistics:')\n",
    "print('Nodes: ', G.number_of_nodes(), 'Edges: ', G.number_of_edges() )"
   ]
  },
  {
   "cell_type": "code",
   "execution_count": 20,
   "metadata": {},
   "outputs": [
    {
     "name": "stdout",
     "output_type": "stream",
     "text": [
      "Graph statistics:\n",
      "Nodes:  3327 Edges:  32761\n"
     ]
    }
   ],
   "source": [
    "\n",
    "A = graph['adjacency']\n",
    "G = nx.from_numpy_matrix(A)\n",
    "print('Graph statistics:')\n",
    "print('Nodes: ', G.number_of_nodes(), 'Edges: ', G.number_of_edges() )"
   ]
  },
  {
   "cell_type": "code",
   "execution_count": 21,
   "metadata": {},
   "outputs": [
    {
     "data": {
      "text/plain": [
       "41"
      ]
     },
     "execution_count": 21,
     "metadata": {},
     "output_type": "execute_result"
    }
   ],
   "source": [
    "def nb_connected_component(L):\n",
    "    return np.sum(np.linalg.eigh(L)[0]<10**-12)\n",
    "L = graph['laplacian']\n",
    "nb_connected_component(L)"
   ]
  },
  {
   "cell_type": "code",
   "execution_count": null,
   "metadata": {},
   "outputs": [],
   "source": []
  },
  {
   "cell_type": "code",
   "execution_count": null,
   "metadata": {},
   "outputs": [],
   "source": []
  },
  {
   "cell_type": "code",
   "execution_count": 22,
   "metadata": {},
   "outputs": [
    {
     "name": "stdout",
     "output_type": "stream",
     "text": [
      "Epoch: 000,loss: 1.7927\n",
      "Epoch: 010,loss: 1.7393\n",
      "Epoch: 020,loss: 1.7285\n",
      "Epoch: 030,loss: 1.7468\n",
      "Epoch: 040,loss: 1.6697\n",
      "Epoch: 050,loss: 1.6380\n",
      "Epoch: 060,loss: 1.6499\n",
      "Epoch: 070,loss: 1.6410\n",
      "Epoch: 080,loss: 1.6373\n",
      "Epoch: 090,loss: 1.6214\n"
     ]
    },
    {
     "data": {
      "text/plain": [
       "0.3153153153153153"
      ]
     },
     "execution_count": 22,
     "metadata": {},
     "output_type": "execute_result"
    }
   ],
   "source": [
    "from scipy import sparse\n",
    "from random import sample\n",
    "adj2=graph['adjacency']\n",
    "import torch\n",
    "import torch.nn.functional as F\n",
    "from torch_geometric.nn import GCNConv\n",
    "\n",
    "\n",
    "class Net(torch.nn.Module):\n",
    "    def __init__(self):\n",
    "        super(Net, self).__init__()\n",
    "        self.conv1 = GCNConv(X.shape[1], 64)\n",
    "        self.conv2 = GCNConv(64, NO_OF_CLASSES)\n",
    "\n",
    "    def reset_parameters(self):\n",
    "        self.conv1.reset_parameters()\n",
    "        self.conv2.reset_parameters()\n",
    "\n",
    "    def forward(self, x, edge_index):\n",
    "        x = self.conv1(x, edge_index)\n",
    "        x = F.relu(x)\n",
    "        x = F.dropout(x, training=self.training)\n",
    "        x = self.conv2(x, edge_index)\n",
    "        return F.log_softmax(x, dim=1)\n",
    "    \n",
    "    \n",
    "####### NO output layer is written\n",
    "NO_OF_NODES = X.shape[0]\n",
    "Wc=adj2\n",
    "Wc=sparse.csr_matrix(Wc)\n",
    "Wc = Wc.tocoo()\n",
    "row = torch.from_numpy(Wc.row).to(torch.long)\n",
    "col = torch.from_numpy(Wc.col).to(torch.long)\n",
    "edge_index_coarsen2 = torch.stack([row, col], dim=0)\n",
    "edge_weight = torch.from_numpy(Wc.data)\n",
    "\n",
    "device = torch.device('cpu')\n",
    "Y = labels\n",
    "labels_coarse=torch.Tensor(Y).type(torch.long)\n",
    "Wc=Wc.toarray()\n",
    "model=Net().to(device)\n",
    "device = torch.device('cpu')\n",
    "lr=0.1\n",
    "decay=0.01\n",
    "features = torch.Tensor(X)\n",
    "try:\n",
    "  X=np.array(features.todense())\n",
    "except:\n",
    "  X = np.array(features)\n",
    "\n",
    "optimizer = torch.optim.Adam(model.parameters(), lr=lr, weight_decay=decay)\n",
    "p = X.shape[0]\n",
    "x=range(0,int(p*0.9))\n",
    "xx=range(int(p*0.9),p)\n",
    "from datetime import datetime\n",
    "def train():\n",
    "    model.train()\n",
    "    optimizer.zero_grad()\n",
    "    out = model(torch.Tensor(X).to(device),edge_index_coarsen2)\n",
    "    loss = F.nll_loss(out[x], labels_coarse[x])\n",
    "    loss.backward()\n",
    "    optimizer.step()\n",
    "    return loss\n",
    "now1 = datetime.now()\n",
    "losses=[]\n",
    "for epoch in range(100):\n",
    "    loss=train()\n",
    "    losses.append(loss)\n",
    "    if(epoch%10==0):\n",
    "        print(f'Epoch: {epoch:03d},loss: {loss:.4f}')\n",
    "now2 = datetime.now()\n",
    "pred=model(torch.Tensor(X).to(device),edge_index_coarsen2).argmax(dim=1)\n",
    "\n",
    "def train_accuracy():\n",
    "    model.eval()\n",
    "    correct = (pred[xx] == labels_coarse[xx]).sum()\n",
    "    acc = int(correct) /len(xx)\n",
    "    return acc\n",
    "\n",
    "zz=sample(range(0, int(NO_OF_NODES)), NO_OF_NODES)\n",
    "Wc=sparse.csr_matrix(adj2)\n",
    "Wc = Wc.tocoo()\n",
    "row = torch.from_numpy(Wc.row).to(torch.long)\n",
    "col = torch.from_numpy(Wc.col).to(torch.long)\n",
    "edge_index_coarsen = torch.stack([row, col], dim=0)\n",
    "edge_weight = torch.from_numpy(Wc.data)\n",
    "pred=model(torch.Tensor(X),edge_index_coarsen).argmax(dim=1)\n",
    "pred=np.array(pred)\n",
    "correct =(pred[xx]==labels[xx]).sum()\n",
    "acc=int(correct)/len(xx)\n",
    "acc"
   ]
  },
  {
   "cell_type": "code",
   "execution_count": 20,
   "metadata": {},
   "outputs": [
    {
     "data": {
      "text/plain": [
       "(3327,)"
      ]
     },
     "execution_count": 20,
     "metadata": {},
     "output_type": "execute_result"
    }
   ],
   "source": [
    "Y.shape"
   ]
  },
  {
   "cell_type": "code",
   "execution_count": 23,
   "metadata": {},
   "outputs": [
    {
     "data": {
      "text/plain": [
       "array([3, 1, 5, ..., 3, 1, 5], dtype=int64)"
      ]
     },
     "execution_count": 23,
     "metadata": {},
     "output_type": "execute_result"
    }
   ],
   "source": [
    "labels"
   ]
  },
  {
   "cell_type": "code",
   "execution_count": null,
   "metadata": {},
   "outputs": [],
   "source": []
  }
 ],
 "metadata": {
  "kernelspec": {
   "display_name": "Python 3 (ipykernel)",
   "language": "python",
   "name": "python3"
  },
  "language_info": {
   "codemirror_mode": {
    "name": "ipython",
    "version": 3
   },
   "file_extension": ".py",
   "mimetype": "text/x-python",
   "name": "python",
   "nbconvert_exporter": "python",
   "pygments_lexer": "ipython3",
   "version": "3.9.7"
  }
 },
 "nbformat": 4,
 "nbformat_minor": 2
}
